{
  "nbformat": 4,
  "nbformat_minor": 0,
  "metadata": {
    "colab": {
      "provenance": []
    },
    "kernelspec": {
      "name": "python3",
      "display_name": "Python 3"
    },
    "language_info": {
      "name": "python"
    }
  },
  "cells": [
    {
      "cell_type": "code",
      "source": [
        "from google.colab import drive\n",
        "drive.mount('/content/gdrive')"
      ],
      "metadata": {
        "colab": {
          "base_uri": "https://localhost:8080/"
        },
        "id": "_-tkIHednLFu",
        "outputId": "731bf971-2be2-40cb-b313-c932b0979300"
      },
      "execution_count": null,
      "outputs": [
        {
          "output_type": "stream",
          "name": "stdout",
          "text": [
            "Mounted at /content/gdrive\n"
          ]
        }
      ]
    },
    {
      "cell_type": "markdown",
      "source": [
        "## Modeling\n",
        "Before proceeding to the generative models, my audio data will need to be converted to MIDI files for processing, which requires several steps for optimization.\n"
      ],
      "metadata": {
        "id": "ftESYTvgyin-"
      }
    },
    {
      "cell_type": "code",
      "source": [
        "import os\n",
        "import numpy as np\n",
        "import librosa\n",
        "import random"
      ],
      "metadata": {
        "id": "q2ncyJaO33Q0"
      },
      "execution_count": null,
      "outputs": []
    },
    {
      "cell_type": "markdown",
      "source": [
        "### Pitch Detection with CREPE\n",
        "CREPE (Convolutional Representation for Pitch Estimation) is a deep learning model designed for pitch detection.\n",
        "\n",
        "This will read each WAV file in my audio folder and uses CREPE to predict the pitch at each time step. The results are stored in pitch_data."
      ],
      "metadata": {
        "id": "poTMbiLMitJx"
      }
    },
    {
      "cell_type": "code",
      "source": [
        "!pip install crepe"
      ],
      "metadata": {
        "id": "kxZ8uehgisy-"
      },
      "execution_count": null,
      "outputs": []
    },
    {
      "cell_type": "code",
      "source": [
        "import crepe\n",
        "from scipy.io import wavfile\n",
        "\n",
        "audio_folder = '/content/gdrive/MyDrive/Violin_Comp_Data/converted_music_files_cleaned'\n",
        "pitch_data = {}\n",
        "\n",
        "for filename in os.listdir(audio_folder):\n",
        "    if filename.endswith('.wav'):\n",
        "        file_path = os.path.join(audio_folder, filename)\n",
        "        sr, audio = wavfile.read(file_path)\n",
        "        time, frequency, confidence, activation = crepe.predict(audio, sr, viterbi=True)\n",
        "\n",
        "        pitch_data[filename] = {\n",
        "            'time': time,\n",
        "            'frequency': frequency,\n",
        "            'confidence': confidence\n",
        "        }\n"
      ],
      "metadata": {
        "id": "kghy_Ubki7Tj"
      },
      "execution_count": null,
      "outputs": []
    },
    {
      "cell_type": "markdown",
      "source": [
        "### Rhythm and Tempo Analysis\n",
        "This will detect note onsets and durations."
      ],
      "metadata": {
        "id": "GFKGVxNPjIXX"
      }
    },
    {
      "cell_type": "code",
      "source": [
        "import librosa\n",
        "\n",
        "def analyze_rhythm(file_path):\n",
        "    y, sr = librosa.load(file_path, sr=None)\n",
        "    onset_frames = librosa.onset.onset_detect(y=y, sr=sr)\n",
        "    onset_times = librosa.frames_to_time(onset_frames, sr=sr)\n",
        "    tempogram = librosa.feature.tempogram(y=y, sr=sr)\n",
        "    tempo = librosa.beat.tempo(onset_envelope=tempogram, sr=sr)\n",
        "    return onset_times, tempo[0]\n"
      ],
      "metadata": {
        "id": "hW4OI89JlIUU"
      },
      "execution_count": null,
      "outputs": []
    },
    {
      "cell_type": "code",
      "source": [
        "audio_folder = '/content/gdrive/MyDrive/Violin_Comp_Data/converted_music_files_cleaned'\n",
        "rhythm_data = {}\n",
        "\n",
        "for filename in os.listdir(audio_folder):\n",
        "    if filename.endswith('.wav'):\n",
        "        file_path = os.path.join(audio_folder, filename)\n",
        "        onset_times, tempo = analyze_rhythm(file_path)\n",
        "        rhythm_data[filename] = {\n",
        "            'onset_times': onset_times,\n",
        "            'tempo': tempo\n",
        "        }\n",
        "\n"
      ],
      "metadata": {
        "id": "4dttW-1HlRvl"
      },
      "execution_count": null,
      "outputs": []
    },
    {
      "cell_type": "markdown",
      "source": [
        "### Align Pitch and Rhythm Data\n",
        "This function aligns pitch data with rhythm data. Then, it iterates over the onset times and finds the closest time in the pitch data, then extracts the corresponding pitch. I'll use a confidence threshold to filter out uncertain pitch detections."
      ],
      "metadata": {
        "id": "PoFXPQU1m9Gu"
      }
    },
    {
      "cell_type": "code",
      "source": [
        "def align_pitch_and_rhythm(pitch_data, rhythm_data):\n",
        "    aligned_data = []\n",
        "    for onset_time in rhythm_data['onset_times']:\n",
        "        # Find the index of the closest time in pitch_data to the onset_time\n",
        "        closest_index = np.argmin(np.abs(pitch_data['time'] - onset_time))\n",
        "        pitch = pitch_data['frequency'][closest_index]\n",
        "        confidence = pitch_data['confidence'][closest_index]\n",
        "\n",
        "        # Only consider pitches with a confidence above a certain threshold\n",
        "        if confidence > 0.8:\n",
        "            aligned_data.append((onset_time, pitch))\n",
        "\n",
        "    return aligned_data\n"
      ],
      "metadata": {
        "id": "JhKGilc7m8vP"
      },
      "execution_count": null,
      "outputs": []
    },
    {
      "cell_type": "markdown",
      "source": [
        "### Create MIDI Files\n",
        "With the aligned pitch and rhythm data, I will now create MIDI files. For simplicity, I will set each note's duration to the interval between its onset time and the next onset time."
      ],
      "metadata": {
        "id": "p-zzm7izngU7"
      }
    },
    {
      "cell_type": "code",
      "source": [
        "!pip install pretty_midi"
      ],
      "metadata": {
        "id": "IVzJ1hKBqKzN"
      },
      "execution_count": null,
      "outputs": []
    },
    {
      "cell_type": "code",
      "source": [
        "import pretty_midi\n",
        "\n",
        "def create_midi(aligned_data, output_file='output.mid'):\n",
        "    midi = pretty_midi.PrettyMIDI()\n",
        "    violin = pretty_midi.Instrument(program=pretty_midi.instrument_name_to_program('Violin'))\n",
        "\n",
        "    for i, (start_time, pitch) in enumerate(aligned_data):\n",
        "        end_time = aligned_data[i+1][0] if i+1 < len(aligned_data) else start_time + 1\n",
        "        note_number = pretty_midi.hz_to_note_number(pitch)\n",
        "\n",
        "        # Ensure note_number is an integer and within MIDI range\n",
        "        note_number = int(round(note_number))\n",
        "        note_number = max(0, min(note_number, 127))\n",
        "\n",
        "        note = pretty_midi.Note(\n",
        "            velocity=100,\n",
        "            pitch=note_number,\n",
        "            start=start_time,\n",
        "            end=end_time\n",
        "        )\n",
        "        violin.notes.append(note)\n",
        "\n",
        "    midi.instruments.append(violin)\n",
        "    midi.write(output_file)\n",
        "\n",
        "# Directory to store all MIDI files\n",
        "midi_folder = '/content/gdrive/MyDrive/Violin_Comp_Data/all_midi_files'\n",
        "\n",
        "# Create the directory if it doesn't exist\n",
        "if not os.path.exists(midi_folder):\n",
        "    os.makedirs(midi_folder)\n"
      ],
      "metadata": {
        "id": "su8dJ0QjnirS"
      },
      "execution_count": null,
      "outputs": []
    },
    {
      "cell_type": "markdown",
      "source": [
        "### Apply to All Files"
      ],
      "metadata": {
        "id": "dZEZ60GWnrs5"
      }
    },
    {
      "cell_type": "code",
      "source": [
        "for filename in os.listdir(audio_folder):\n",
        "    if filename.endswith('.wav'):\n",
        "        pitch_file = pitch_data[filename]\n",
        "        rhythm_file = rhythm_data[filename]\n",
        "        aligned_data = align_pitch_and_rhythm(pitch_file, rhythm_file)\n",
        "        midi_file = f\"{filename.split('.')[0]}.mid\"\n",
        "        create_midi(aligned_data, output_file=midi_file)\n"
      ],
      "metadata": {
        "id": "HWecGDWnnoyp"
      },
      "execution_count": null,
      "outputs": []
    },
    {
      "cell_type": "markdown",
      "source": [
        "### Data Preparation\n",
        "Defining a function for reading the MIDI files, which will give an array of notes and chords in the audio."
      ],
      "metadata": {
        "id": "SvTdE2Ivxy5S"
      }
    },
    {
      "cell_type": "code",
      "execution_count": null,
      "metadata": {
        "id": "2-ATcHWKkMve"
      },
      "outputs": [],
      "source": [
        "from music21 import converter, instrument, note, chord\n",
        "\n",
        "def read_midi(file):\n",
        "    #print(\"Loading Music File:\", file)\n",
        "    notes = []\n",
        "\n",
        "    # Parsing a MIDI file\n",
        "    midi = converter.parse(file)\n",
        "\n",
        "    # Grouping based on different instruments\n",
        "    parts = instrument.partitionByInstrument(midi)\n",
        "\n",
        "    # Check if there are parts, if not, consider the whole stream\n",
        "    if parts:\n",
        "        relevant_parts = parts.parts\n",
        "    else:\n",
        "        relevant_parts = [midi]\n",
        "\n",
        "    # Looping over all parts to find violin\n",
        "    for part in relevant_parts:\n",
        "        if isinstance(part.getInstrument(), instrument.Violin) or \"Violin\" in part.partName:\n",
        "            for element in part.recurse():\n",
        "                # Note or chord handling\n",
        "                if isinstance(element, note.Note):\n",
        "                    notes.append((str(element.pitch), element.duration.quarterLength, element.offset))\n",
        "                elif isinstance(element, chord.Chord):\n",
        "                    notes.append(('.'.join(str(n) for n in element.normalOrder), element.duration.quarterLength, element.offset))\n",
        "\n",
        "    return np.array(notes)\n",
        "\n",
        "\n",
        "path = '/content/gdrive/MyDrive/Violin_Comp_Data/all_midi_files/'\n",
        "\n",
        "# Read all the filenames\n",
        "files = [i for i in os.listdir(path) if i.endswith(\".mid\")]\n",
        "\n",
        "# Reading each MIDI file\n",
        "notes_array = [read_midi(path + i) for i in files]\n"
      ]
    },
    {
      "cell_type": "code",
      "source": [
        "print(\"Type of notes_array:\", type(notes_array))\n",
        "print(\"First two elements of notes_array:\", notes_array[:2])\n"
      ],
      "metadata": {
        "id": "XHsyErRcpG0E"
      },
      "execution_count": null,
      "outputs": []
    },
    {
      "cell_type": "markdown",
      "source": [
        "### Flatten Function and Notes Extraction\n",
        "The following function is to flatten a nested list or array structure. After defining the function, I'll use it to flatten `notes_array` into a single list `notes_flat` for model processing.\n"
      ],
      "metadata": {
        "id": "1kMGC9QUzn6T"
      }
    },
    {
      "cell_type": "code",
      "source": [
        "def flatten(array):\n",
        "    for item in array:\n",
        "        if isinstance(item, (list, np.ndarray)):\n",
        "            yield from flatten(item)\n",
        "        else:\n",
        "            yield item\n",
        "\n",
        "notes_flat = list(flatten(notes_array))\n"
      ],
      "metadata": {
        "id": "jhcik35wpQBd"
      },
      "execution_count": null,
      "outputs": []
    },
    {
      "cell_type": "markdown",
      "source": [
        "### Identifying Unique Notes"
      ],
      "metadata": {
        "id": "rhWBcuwl0JxL"
      }
    },
    {
      "cell_type": "code",
      "source": [
        "unique_notes = list(set(notes_flat))\n",
        "print(\"Number of unique notes:\", len(unique_notes))\n"
      ],
      "metadata": {
        "colab": {
          "base_uri": "https://localhost:8080/"
        },
        "id": "At7JpSVIpSyH",
        "outputId": "d4149510-6579-47fe-961f-7f65e6ad5db6"
      },
      "execution_count": null,
      "outputs": [
        {
          "output_type": "stream",
          "name": "stdout",
          "text": [
            "Number of unique notes: 524\n"
          ]
        }
      ]
    },
    {
      "cell_type": "markdown",
      "source": [
        "### Top 20 Most Frequent Notes\n",
        "Here, I'll count the frequency of each note using the `Counter` class and then plot a bar chart for the top 20 most frequent notes. This visualization helps in understanding the distribution of notes and identifying the most commonly occurring ones.\n"
      ],
      "metadata": {
        "id": "oX51j0Bp0PUh"
      }
    },
    {
      "cell_type": "code",
      "source": [
        "import matplotlib.pyplot as plt\n",
        "from collections import Counter\n",
        "\n",
        "# Count the frequency of each note\n",
        "note_freq = Counter(notes_flat)\n",
        "\n",
        "# Selecting top categories\n",
        "top_n = 20\n",
        "top_items = note_freq.most_common(top_n)\n",
        "notes, frequencies = zip(*top_items)\n",
        "\n",
        "# Use numerical indices as x-values\n",
        "x_values = range(len(notes))\n",
        "\n",
        "# Create the bar chart\n",
        "plt.figure(figsize=(10, 5))\n",
        "plt.bar(x_values, frequencies, color='blue', edgecolor='black')\n",
        "\n",
        "# Adding labels and title\n",
        "plt.xlabel('Notes')\n",
        "plt.ylabel('Frequency')\n",
        "plt.title(f'Top {top_n} Most Frequent Notes')\n",
        "\n",
        "# Set the x-axis labels to the note names\n",
        "plt.xticks(x_values, notes, rotation=90)\n",
        "\n",
        "# Show plot\n",
        "plt.show()\n"
      ],
      "metadata": {
        "colab": {
          "base_uri": "https://localhost:8080/",
          "height": 503
        },
        "id": "Pjx50aEUtxe2",
        "outputId": "6da6cb96-b21d-4309-e475-929933eef683"
      },
      "execution_count": null,
      "outputs": [
        {
          "output_type": "display_data",
          "data": {
            "text/plain": [
              "<Figure size 1000x500 with 1 Axes>"
            ],
            "image/png": "[encoded data removed]"
          },
          "metadata": {
            "image/png": {
              "width": 850,
              "height": 486
            }
          }
        }
      ]
    },
    {
      "cell_type": "markdown",
      "source": [
        "### Note Frequency Histogram\n",
        "Now I'll focuses on creating a histogram to visualize the frequency distribution of all notes. I'll compute the frequencies using the `Counter` class and plot a histogram, providing a visual representation of how note occurrences are distributed across the dataset.\n"
      ],
      "metadata": {
        "id": "gJSEt0_40iV0"
      }
    },
    {
      "cell_type": "code",
      "source": [
        "# Computing frequency of each note\n",
        "freq = dict(Counter(notes_flat))\n",
        "\n",
        "# Consider only the frequencies\n",
        "frequencies = [count for _, count in freq.items()]\n",
        "\n",
        "# Set fig size\n",
        "plt.figure(figsize=(5, 5))\n",
        "\n",
        "# Plot\n",
        "plt.hist(frequencies, bins=20, color='blue', edgecolor='black');\n"
      ],
      "metadata": {
        "colab": {
          "base_uri": "https://localhost:8080/",
          "height": 445
        },
        "id": "ZqJKCO96rVR0",
        "outputId": "98926a91-f405-45e6-eaa3-09d5932f1c7c"
      },
      "execution_count": null,
      "outputs": [
        {
          "output_type": "display_data",
          "data": {
            "text/plain": [
              "<Figure size 500x500 with 1 Axes>"
            ],
            "image/png": "[encoded data removed]"
          },
          "metadata": {
            "image/png": {
              "width": 443,
              "height": 428
            }
          }
        }
      ]
    },
    {
      "cell_type": "code",
      "source": [
        "frequent_notes = [note_flat for note_flat, count in freq.items() if count>=1]\n",
        "print(len(frequent_notes))"
      ],
      "metadata": {
        "colab": {
          "base_uri": "https://localhost:8080/"
        },
        "id": "8b1QU5J0lzB4",
        "outputId": "65ec9f8a-3532-455c-fb38-f3d1ddd6a79c"
      },
      "execution_count": null,
      "outputs": [
        {
          "output_type": "stream",
          "name": "stdout",
          "text": [
            "524\n"
          ]
        }
      ]
    },
    {
      "cell_type": "markdown",
      "source": [
        "### Creating a Filtered Music Dataset\n",
        "Now, I'll iterate through `notes_array` to create a new dataset. This will filter and simplify the dataset based on the frequency of notes.\n"
      ],
      "metadata": {
        "id": "euyABnIY1fv2"
      }
    },
    {
      "cell_type": "code",
      "source": [
        "new_music = []\n",
        "\n",
        "for notes in notes_array:\n",
        "    temp = []\n",
        "    for note_flat in notes:\n",
        "        for element in note_flat:\n",
        "            if element in frequent_notes:\n",
        "                temp.append(element)\n",
        "                break\n",
        "    new_music.append(temp)\n",
        "\n",
        "new_music = np.array(new_music)\n"
      ],
      "metadata": {
        "id": "nQ_b9o5zly-K"
      },
      "execution_count": null,
      "outputs": []
    },
    {
      "cell_type": "markdown",
      "source": [
        "### Preparing Input and Output Sequences\n",
        "Generating input and output sequences for the model. This sliding window approach prepares the dataset for time series forecasting or sequence prediction models. In this case, a sequence prediction model.\n"
      ],
      "metadata": {
        "id": "PET7Jldf1vha"
      }
    },
    {
      "cell_type": "code",
      "source": [
        "no_of_timesteps = 32\n",
        "x = []\n",
        "y = []\n",
        "\n",
        "for note_ in new_music:\n",
        "    for i in range(0, len(note_) - no_of_timesteps, 1):\n",
        "\n",
        "        #preparing input and output sequences\n",
        "        input_ = note_[i:i + no_of_timesteps]\n",
        "        output = note_[i + no_of_timesteps]\n",
        "\n",
        "        x.append(input_)\n",
        "        y.append(output)\n",
        "\n",
        "x=np.array(x)\n",
        "y=np.array(y)"
      ],
      "metadata": {
        "id": "hEWHLIqalyyh"
      },
      "execution_count": null,
      "outputs": []
    },
    {
      "cell_type": "markdown",
      "source": [
        "### Mapping Notes to Integers for Inputs\n",
        "For model training, I'll convert the notes in input and output sequences into integers. A unique integer is assigned to each note, creating a dictionary. Then, converting input sequences to integer sequences."
      ],
      "metadata": {
        "id": "s7uao-Ok2Ik3"
      }
    },
    {
      "cell_type": "code",
      "source": [
        "unique_x = list(set(x.ravel()))\n",
        "x_note_to_int = dict((note_flat, number) for number, note_flat in enumerate(unique_x))\n"
      ],
      "metadata": {
        "id": "Ap_Z85Q0lywc"
      },
      "execution_count": null,
      "outputs": []
    },
    {
      "cell_type": "code",
      "source": [
        "#preparing input sequences\n",
        "x_seq=[]\n",
        "for i in x:\n",
        "    temp=[]\n",
        "    for j in i:\n",
        "        #assigning unique integer to every note\n",
        "        temp.append(x_note_to_int[j])\n",
        "    x_seq.append(temp)\n",
        "\n",
        "x_seq = np.array(x_seq)"
      ],
      "metadata": {
        "id": "vhnEFRF_lys7"
      },
      "execution_count": null,
      "outputs": []
    },
    {
      "cell_type": "code",
      "source": [
        "unique_y = list(set(y))\n",
        "y_note_to_int = dict((note_, number) for number, note_ in enumerate(unique_y))\n",
        "y_seq=np.array([y_note_to_int[i] for i in y])"
      ],
      "metadata": {
        "id": "Sr90U3gImYV5"
      },
      "execution_count": null,
      "outputs": []
    },
    {
      "cell_type": "markdown",
      "source": [
        "### Initiating Train-Test Split"
      ],
      "metadata": {
        "id": "mSyuwR-C3bIf"
      }
    },
    {
      "cell_type": "code",
      "source": [
        "from sklearn.model_selection import train_test_split\n",
        "x_tr, x_val, y_tr, y_val = train_test_split(x_seq,y_seq,test_size=0.2,random_state=13)"
      ],
      "metadata": {
        "id": "gB2YUZrWmYTU"
      },
      "execution_count": null,
      "outputs": []
    },
    {
      "cell_type": "markdown",
      "source": [
        "### Building a Baseline WaveNet Model\n",
        "Initializing the WaveNet model using Keras. The model includes an Embedding layer, several Convolutional layers with different dilation rates and Dropout layers for regularization, and Dense layers for the output. The model is compiled with the 'sparse_categorical_crossentropy' loss function and the 'adam' optimizer."
      ],
      "metadata": {
        "id": "c1ScmpiE4S4D"
      }
    },
    {
      "cell_type": "code",
      "source": [
        "from keras.layers import *\n",
        "from keras.models import *\n",
        "from keras.callbacks import *\n",
        "import keras.backend as K\n",
        "\n",
        "K.clear_session()\n",
        "model = Sequential()\n",
        "\n",
        "#embedding layer\n",
        "model.add(Embedding(len(unique_x), 100, input_length=32,trainable=True))\n",
        "\n",
        "model.add(Conv1D(64,3, padding='causal',activation='relu'))\n",
        "model.add(Dropout(0.2))\n",
        "model.add(MaxPool1D(2))\n",
        "\n",
        "model.add(Conv1D(128,3,activation='relu',dilation_rate=2,padding='causal'))\n",
        "model.add(Dropout(0.2))\n",
        "model.add(MaxPool1D(2))\n",
        "\n",
        "model.add(Conv1D(256,3,activation='relu',dilation_rate=4,padding='causal'))\n",
        "model.add(Dropout(0.2))\n",
        "model.add(MaxPool1D(2))\n",
        "\n",
        "#model.add(Conv1D(256,5,activation='relu'))\n",
        "model.add(GlobalMaxPool1D())\n",
        "\n",
        "model.add(Dense(256, activation='relu'))\n",
        "model.add(Dense(len(unique_y), activation='softmax'))\n",
        "\n",
        "model.compile(loss='sparse_categorical_crossentropy', optimizer='adam', metrics=['accuracy'])\n",
        "\n",
        "model.summary()"
      ],
      "metadata": {
        "colab": {
          "base_uri": "https://localhost:8080/"
        },
        "id": "qa49DYYvmYQe",
        "outputId": "3d24b9b7-f0af-428c-b826-c57640fe909a"
      },
      "execution_count": null,
      "outputs": [
        {
          "output_type": "stream",
          "name": "stdout",
          "text": [
            "Model: \"sequential\"\n",
            "_________________________________________________________________\n",
            " Layer (type)                Output Shape              Param #   \n",
            "=================================================================\n",
            " embedding (Embedding)       (None, 32, 100)           6700      \n",
            "                                                                 \n",
            " conv1d (Conv1D)             (None, 32, 64)            19264     \n",
            "                                                                 \n",
            " dropout (Dropout)           (None, 32, 64)            0         \n",
            "                                                                 \n",
            " max_pooling1d (MaxPooling1  (None, 16, 64)            0         \n",
            " D)                                                              \n",
            "                                                                 \n",
            " conv1d_1 (Conv1D)           (None, 16, 128)           24704     \n",
            "                                                                 \n",
            " dropout_1 (Dropout)         (None, 16, 128)           0         \n",
            "                                                                 \n",
            " max_pooling1d_1 (MaxPoolin  (None, 8, 128)            0         \n",
            " g1D)                                                            \n",
            "                                                                 \n",
            " conv1d_2 (Conv1D)           (None, 8, 256)            98560     \n",
            "                                                                 \n",
            " dropout_2 (Dropout)         (None, 8, 256)            0         \n",
            "                                                                 \n",
            " max_pooling1d_2 (MaxPoolin  (None, 4, 256)            0         \n",
            " g1D)                                                            \n",
            "                                                                 \n",
            " global_max_pooling1d (Glob  (None, 256)               0         \n",
            " alMaxPooling1D)                                                 \n",
            "                                                                 \n",
            " dense (Dense)               (None, 256)               65792     \n",
            "                                                                 \n",
            " dense_1 (Dense)             (None, 54)                13878     \n",
            "                                                                 \n",
            "=================================================================\n",
            "Total params: 228898 (894.13 KB)\n",
            "Trainable params: 228898 (894.13 KB)\n",
            "Non-trainable params: 0 (0.00 Byte)\n",
            "_________________________________________________________________\n"
          ]
        }
      ]
    },
    {
      "cell_type": "markdown",
      "source": [
        "### Setting Up Model Checkpointing\n",
        "This will save the model whenever there is an improvement in the validation loss during training, ensuring that I always have the best performing model saved."
      ],
      "metadata": {
        "id": "fvv5QnhQ55lK"
      }
    },
    {
      "cell_type": "code",
      "source": [
        "mc=ModelCheckpoint('best_model3.h5', monitor='val_loss', mode='min', save_best_only=True,verbose=1)"
      ],
      "metadata": {
        "id": "sBjqEA7WmYOU"
      },
      "execution_count": null,
      "outputs": []
    },
    {
      "cell_type": "markdown",
      "source": [
        "### Training the Model\n",
        "The model is trained with a batch size of 128 for 50 epochs. Validation data is used to monitor the model's performance on unseen data. The model checkpoint callback is used to save the best model during training.\n"
      ],
      "metadata": {
        "id": "8OjuOtC86L0M"
      }
    },
    {
      "cell_type": "code",
      "source": [
        "history = model.fit(np.array(x_tr),np.array(y_tr),batch_size=128,epochs=50, validation_data=(np.array(x_val),np.array(y_val)),verbose=1, callbacks=[mc])"
      ],
      "metadata": {
        "colab": {
          "base_uri": "https://localhost:8080/"
        },
        "id": "wRl6w_DFmYMi",
        "outputId": "a9c74056-6862-4978-b6c1-977c39b6768a"
      },
      "execution_count": null,
      "outputs": [
        {
          "output_type": "stream",
          "name": "stdout",
          "text": [
            "Epoch 1/50\n",
            "5/5 [==============================] - ETA: 0s - loss: 3.9667 - accuracy: 0.0735\n",
            "Epoch 1: val_loss improved from inf to 3.93354, saving model to best_model3.h5\n",
            "5/5 [==============================] - 2s 158ms/step - loss: 3.9667 - accuracy: 0.0735 - val_loss: 3.9335 - val_accuracy: 0.0446\n",
            "Epoch 2/50\n",
            "5/5 [==============================] - ETA: 0s - loss: 3.8173 - accuracy: 0.0655\n",
            "Epoch 2: val_loss improved from 3.93354 to 3.73498, saving model to best_model3.h5\n",
            "5/5 [==============================] - 0s 95ms/step - loss: 3.8173 - accuracy: 0.0655 - val_loss: 3.7350 - val_accuracy: 0.0446\n",
            "Epoch 3/50\n",
            "5/5 [==============================] - ETA: 0s - loss: 3.5660 - accuracy: 0.0671\n",
            "Epoch 3: val_loss improved from 3.73498 to 3.49479, saving model to best_model3.h5\n",
            "5/5 [==============================] - 0s 104ms/step - loss: 3.5660 - accuracy: 0.0671 - val_loss: 3.4948 - val_accuracy: 0.1083\n",
            "Epoch 4/50\n",
            "5/5 [==============================] - ETA: 0s - loss: 3.3967 - accuracy: 0.1166\n",
            "Epoch 4: val_loss improved from 3.49479 to 3.44227, saving model to best_model3.h5\n",
            "5/5 [==============================] - 0s 104ms/step - loss: 3.3967 - accuracy: 0.1166 - val_loss: 3.4423 - val_accuracy: 0.1529\n",
            "Epoch 5/50\n",
            "5/5 [==============================] - ETA: 0s - loss: 3.2904 - accuracy: 0.1438\n",
            "Epoch 5: val_loss improved from 3.44227 to 3.37714, saving model to best_model3.h5\n",
            "5/5 [==============================] - 0s 82ms/step - loss: 3.2904 - accuracy: 0.1438 - val_loss: 3.3771 - val_accuracy: 0.1338\n",
            "Epoch 6/50\n",
            "5/5 [==============================] - ETA: 0s - loss: 3.1950 - accuracy: 0.1629\n",
            "Epoch 6: val_loss improved from 3.37714 to 3.27888, saving model to best_model3.h5\n",
            "5/5 [==============================] - 0s 88ms/step - loss: 3.1950 - accuracy: 0.1629 - val_loss: 3.2789 - val_accuracy: 0.1592\n",
            "Epoch 7/50\n",
            "5/5 [==============================] - ETA: 0s - loss: 3.0721 - accuracy: 0.1837\n",
            "Epoch 7: val_loss improved from 3.27888 to 3.21583, saving model to best_model3.h5\n",
            "5/5 [==============================] - 0s 80ms/step - loss: 3.0721 - accuracy: 0.1837 - val_loss: 3.2158 - val_accuracy: 0.2102\n",
            "Epoch 8/50\n",
            "5/5 [==============================] - ETA: 0s - loss: 2.9550 - accuracy: 0.2668\n",
            "Epoch 8: val_loss improved from 3.21583 to 3.15059, saving model to best_model3.h5\n",
            "5/5 [==============================] - 0s 83ms/step - loss: 2.9550 - accuracy: 0.2668 - val_loss: 3.1506 - val_accuracy: 0.2484\n",
            "Epoch 9/50\n",
            "5/5 [==============================] - ETA: 0s - loss: 2.8000 - accuracy: 0.2843\n",
            "Epoch 9: val_loss improved from 3.15059 to 3.08233, saving model to best_model3.h5\n",
            "5/5 [==============================] - 0s 83ms/step - loss: 2.8000 - accuracy: 0.2843 - val_loss: 3.0823 - val_accuracy: 0.2739\n",
            "Epoch 10/50\n",
            "5/5 [==============================] - ETA: 0s - loss: 2.6866 - accuracy: 0.3179\n",
            "Epoch 10: val_loss improved from 3.08233 to 3.01319, saving model to best_model3.h5\n",
            "5/5 [==============================] - 0s 82ms/step - loss: 2.6866 - accuracy: 0.3179 - val_loss: 3.0132 - val_accuracy: 0.2866\n",
            "Epoch 11/50\n",
            "5/5 [==============================] - ETA: 0s - loss: 2.5555 - accuracy: 0.3466\n",
            "Epoch 11: val_loss improved from 3.01319 to 2.94366, saving model to best_model3.h5\n",
            "5/5 [==============================] - 0s 85ms/step - loss: 2.5555 - accuracy: 0.3466 - val_loss: 2.9437 - val_accuracy: 0.3248\n",
            "Epoch 12/50\n",
            "5/5 [==============================] - ETA: 0s - loss: 2.4560 - accuracy: 0.3514\n",
            "Epoch 12: val_loss improved from 2.94366 to 2.89757, saving model to best_model3.h5\n",
            "5/5 [==============================] - 0s 81ms/step - loss: 2.4560 - accuracy: 0.3514 - val_loss: 2.8976 - val_accuracy: 0.3121\n",
            "Epoch 13/50\n",
            "5/5 [==============================] - ETA: 0s - loss: 2.3447 - accuracy: 0.3738\n",
            "Epoch 13: val_loss improved from 2.89757 to 2.86763, saving model to best_model3.h5\n",
            "5/5 [==============================] - 0s 84ms/step - loss: 2.3447 - accuracy: 0.3738 - val_loss: 2.8676 - val_accuracy: 0.3121\n",
            "Epoch 14/50\n",
            "5/5 [==============================] - ETA: 0s - loss: 2.2597 - accuracy: 0.3690\n",
            "Epoch 14: val_loss improved from 2.86763 to 2.77297, saving model to best_model3.h5\n",
            "5/5 [==============================] - 0s 87ms/step - loss: 2.2597 - accuracy: 0.3690 - val_loss: 2.7730 - val_accuracy: 0.3248\n",
            "Epoch 15/50\n",
            "5/5 [==============================] - ETA: 0s - loss: 2.1803 - accuracy: 0.4105\n",
            "Epoch 15: val_loss improved from 2.77297 to 2.76788, saving model to best_model3.h5\n",
            "5/5 [==============================] - 1s 124ms/step - loss: 2.1803 - accuracy: 0.4105 - val_loss: 2.7679 - val_accuracy: 0.3503\n",
            "Epoch 16/50\n",
            "5/5 [==============================] - ETA: 0s - loss: 2.0644 - accuracy: 0.4377\n",
            "Epoch 16: val_loss improved from 2.76788 to 2.68639, saving model to best_model3.h5\n",
            "5/5 [==============================] - 1s 138ms/step - loss: 2.0644 - accuracy: 0.4377 - val_loss: 2.6864 - val_accuracy: 0.3758\n",
            "Epoch 17/50\n",
            "5/5 [==============================] - ETA: 0s - loss: 1.9775 - accuracy: 0.4201\n",
            "Epoch 17: val_loss improved from 2.68639 to 2.66442, saving model to best_model3.h5\n",
            "5/5 [==============================] - 1s 148ms/step - loss: 1.9775 - accuracy: 0.4201 - val_loss: 2.6644 - val_accuracy: 0.3567\n",
            "Epoch 18/50\n",
            "5/5 [==============================] - ETA: 0s - loss: 1.8988 - accuracy: 0.4505\n",
            "Epoch 18: val_loss improved from 2.66442 to 2.59821, saving model to best_model3.h5\n",
            "5/5 [==============================] - 1s 139ms/step - loss: 1.8988 - accuracy: 0.4505 - val_loss: 2.5982 - val_accuracy: 0.3822\n",
            "Epoch 19/50\n",
            "5/5 [==============================] - ETA: 0s - loss: 1.8165 - accuracy: 0.4968\n",
            "Epoch 19: val_loss improved from 2.59821 to 2.57230, saving model to best_model3.h5\n",
            "5/5 [==============================] - 1s 131ms/step - loss: 1.8165 - accuracy: 0.4968 - val_loss: 2.5723 - val_accuracy: 0.4076\n",
            "Epoch 20/50\n",
            "5/5 [==============================] - ETA: 0s - loss: 1.7304 - accuracy: 0.5112\n",
            "Epoch 20: val_loss improved from 2.57230 to 2.50367, saving model to best_model3.h5\n",
            "5/5 [==============================] - 1s 135ms/step - loss: 1.7304 - accuracy: 0.5112 - val_loss: 2.5037 - val_accuracy: 0.4331\n",
            "Epoch 21/50\n",
            "5/5 [==============================] - ETA: 0s - loss: 1.6481 - accuracy: 0.5224\n",
            "Epoch 21: val_loss did not improve from 2.50367\n",
            "5/5 [==============================] - 1s 128ms/step - loss: 1.6481 - accuracy: 0.5224 - val_loss: 2.5222 - val_accuracy: 0.4076\n",
            "Epoch 22/50\n",
            "5/5 [==============================] - ETA: 0s - loss: 1.5906 - accuracy: 0.5319\n",
            "Epoch 22: val_loss improved from 2.50367 to 2.44707, saving model to best_model3.h5\n",
            "5/5 [==============================] - 1s 132ms/step - loss: 1.5906 - accuracy: 0.5319 - val_loss: 2.4471 - val_accuracy: 0.4459\n",
            "Epoch 23/50\n",
            "5/5 [==============================] - ETA: 0s - loss: 1.5150 - accuracy: 0.5687\n",
            "Epoch 23: val_loss did not improve from 2.44707\n",
            "5/5 [==============================] - 1s 113ms/step - loss: 1.5150 - accuracy: 0.5687 - val_loss: 2.4780 - val_accuracy: 0.4204\n",
            "Epoch 24/50\n",
            "5/5 [==============================] - ETA: 0s - loss: 1.4533 - accuracy: 0.5719\n",
            "Epoch 24: val_loss improved from 2.44707 to 2.39638, saving model to best_model3.h5\n",
            "5/5 [==============================] - 0s 85ms/step - loss: 1.4533 - accuracy: 0.5719 - val_loss: 2.3964 - val_accuracy: 0.4522\n",
            "Epoch 25/50\n",
            "5/5 [==============================] - ETA: 0s - loss: 1.4135 - accuracy: 0.5703\n",
            "Epoch 25: val_loss did not improve from 2.39638\n",
            "5/5 [==============================] - 0s 74ms/step - loss: 1.4135 - accuracy: 0.5703 - val_loss: 2.4126 - val_accuracy: 0.4522\n",
            "Epoch 26/50\n",
            "5/5 [==============================] - ETA: 0s - loss: 1.2905 - accuracy: 0.5990\n",
            "Epoch 26: val_loss improved from 2.39638 to 2.33395, saving model to best_model3.h5\n",
            "5/5 [==============================] - 0s 83ms/step - loss: 1.2905 - accuracy: 0.5990 - val_loss: 2.3340 - val_accuracy: 0.4904\n",
            "Epoch 27/50\n",
            "5/5 [==============================] - ETA: 0s - loss: 1.2860 - accuracy: 0.6022\n",
            "Epoch 27: val_loss did not improve from 2.33395\n",
            "5/5 [==============================] - 0s 80ms/step - loss: 1.2860 - accuracy: 0.6022 - val_loss: 2.4241 - val_accuracy: 0.4586\n",
            "Epoch 28/50\n",
            "5/5 [==============================] - ETA: 0s - loss: 1.2700 - accuracy: 0.6006\n",
            "Epoch 28: val_loss did not improve from 2.33395\n",
            "5/5 [==============================] - 0s 82ms/step - loss: 1.2700 - accuracy: 0.6006 - val_loss: 2.3398 - val_accuracy: 0.4459\n",
            "Epoch 29/50\n",
            "5/5 [==============================] - ETA: 0s - loss: 1.1916 - accuracy: 0.6262\n",
            "Epoch 29: val_loss did not improve from 2.33395\n",
            "5/5 [==============================] - 0s 92ms/step - loss: 1.1916 - accuracy: 0.6262 - val_loss: 2.3631 - val_accuracy: 0.4713\n",
            "Epoch 30/50\n",
            "5/5 [==============================] - ETA: 0s - loss: 1.1340 - accuracy: 0.6454\n",
            "Epoch 30: val_loss improved from 2.33395 to 2.32223, saving model to best_model3.h5\n",
            "5/5 [==============================] - 0s 86ms/step - loss: 1.1340 - accuracy: 0.6454 - val_loss: 2.3222 - val_accuracy: 0.4777\n",
            "Epoch 31/50\n",
            "5/5 [==============================] - ETA: 0s - loss: 1.1095 - accuracy: 0.6262\n",
            "Epoch 31: val_loss did not improve from 2.32223\n",
            "5/5 [==============================] - 0s 74ms/step - loss: 1.1095 - accuracy: 0.6262 - val_loss: 2.3549 - val_accuracy: 0.4650\n",
            "Epoch 32/50\n",
            "5/5 [==============================] - ETA: 0s - loss: 1.0945 - accuracy: 0.6470\n",
            "Epoch 32: val_loss did not improve from 2.32223\n",
            "5/5 [==============================] - 0s 89ms/step - loss: 1.0945 - accuracy: 0.6470 - val_loss: 2.3556 - val_accuracy: 0.4331\n",
            "Epoch 33/50\n",
            "5/5 [==============================] - ETA: 0s - loss: 1.0662 - accuracy: 0.6486\n",
            "Epoch 33: val_loss improved from 2.32223 to 2.29707, saving model to best_model3.h5\n",
            "5/5 [==============================] - 0s 101ms/step - loss: 1.0662 - accuracy: 0.6486 - val_loss: 2.2971 - val_accuracy: 0.5032\n",
            "Epoch 34/50\n",
            "5/5 [==============================] - ETA: 0s - loss: 1.0246 - accuracy: 0.6438\n",
            "Epoch 34: val_loss improved from 2.29707 to 2.26633, saving model to best_model3.h5\n",
            "5/5 [==============================] - 0s 100ms/step - loss: 1.0246 - accuracy: 0.6438 - val_loss: 2.2663 - val_accuracy: 0.4713\n",
            "Epoch 35/50\n",
            "5/5 [==============================] - ETA: 0s - loss: 0.9480 - accuracy: 0.6837\n",
            "Epoch 35: val_loss did not improve from 2.26633\n",
            "5/5 [==============================] - 0s 74ms/step - loss: 0.9480 - accuracy: 0.6837 - val_loss: 2.3106 - val_accuracy: 0.4968\n",
            "Epoch 36/50\n",
            "5/5 [==============================] - ETA: 0s - loss: 0.9410 - accuracy: 0.6821\n",
            "Epoch 36: val_loss did not improve from 2.26633\n",
            "5/5 [==============================] - 0s 73ms/step - loss: 0.9410 - accuracy: 0.6821 - val_loss: 2.2898 - val_accuracy: 0.5032\n",
            "Epoch 37/50\n",
            "5/5 [==============================] - ETA: 0s - loss: 0.9064 - accuracy: 0.6917\n",
            "Epoch 37: val_loss did not improve from 2.26633\n",
            "5/5 [==============================] - 0s 79ms/step - loss: 0.9064 - accuracy: 0.6917 - val_loss: 2.2956 - val_accuracy: 0.5287\n",
            "Epoch 38/50\n",
            "5/5 [==============================] - ETA: 0s - loss: 0.8713 - accuracy: 0.7061\n",
            "Epoch 38: val_loss did not improve from 2.26633\n",
            "5/5 [==============================] - 0s 75ms/step - loss: 0.8713 - accuracy: 0.7061 - val_loss: 2.2889 - val_accuracy: 0.5287\n",
            "Epoch 39/50\n",
            "5/5 [==============================] - ETA: 0s - loss: 0.8311 - accuracy: 0.7316\n",
            "Epoch 39: val_loss did not improve from 2.26633\n",
            "5/5 [==============================] - 0s 74ms/step - loss: 0.8311 - accuracy: 0.7316 - val_loss: 2.3449 - val_accuracy: 0.4968\n",
            "Epoch 40/50\n",
            "5/5 [==============================] - ETA: 0s - loss: 0.8350 - accuracy: 0.7013\n",
            "Epoch 40: val_loss did not improve from 2.26633\n",
            "5/5 [==============================] - 0s 81ms/step - loss: 0.8350 - accuracy: 0.7013 - val_loss: 2.3582 - val_accuracy: 0.5541\n",
            "Epoch 41/50\n",
            "5/5 [==============================] - ETA: 0s - loss: 0.7907 - accuracy: 0.7236\n",
            "Epoch 41: val_loss did not improve from 2.26633\n",
            "5/5 [==============================] - 0s 74ms/step - loss: 0.7907 - accuracy: 0.7236 - val_loss: 2.3495 - val_accuracy: 0.4904\n",
            "Epoch 42/50\n",
            "5/5 [==============================] - ETA: 0s - loss: 0.7815 - accuracy: 0.7268\n",
            "Epoch 42: val_loss did not improve from 2.26633\n",
            "5/5 [==============================] - 0s 75ms/step - loss: 0.7815 - accuracy: 0.7268 - val_loss: 2.3326 - val_accuracy: 0.5732\n",
            "Epoch 43/50\n",
            "5/5 [==============================] - ETA: 0s - loss: 0.7509 - accuracy: 0.7652\n",
            "Epoch 43: val_loss did not improve from 2.26633\n",
            "5/5 [==============================] - 0s 94ms/step - loss: 0.7509 - accuracy: 0.7652 - val_loss: 2.3721 - val_accuracy: 0.4841\n",
            "Epoch 44/50\n",
            "5/5 [==============================] - ETA: 0s - loss: 0.7066 - accuracy: 0.7572\n",
            "Epoch 44: val_loss did not improve from 2.26633\n",
            "5/5 [==============================] - 0s 83ms/step - loss: 0.7066 - accuracy: 0.7572 - val_loss: 2.4124 - val_accuracy: 0.5096\n",
            "Epoch 45/50\n",
            "5/5 [==============================] - ETA: 0s - loss: 0.7007 - accuracy: 0.7572\n",
            "Epoch 45: val_loss did not improve from 2.26633\n",
            "5/5 [==============================] - 0s 98ms/step - loss: 0.7007 - accuracy: 0.7572 - val_loss: 2.3586 - val_accuracy: 0.5223\n",
            "Epoch 46/50\n",
            "5/5 [==============================] - ETA: 0s - loss: 0.6895 - accuracy: 0.7636\n",
            "Epoch 46: val_loss did not improve from 2.26633\n",
            "5/5 [==============================] - 0s 83ms/step - loss: 0.6895 - accuracy: 0.7636 - val_loss: 2.3699 - val_accuracy: 0.5159\n",
            "Epoch 47/50\n",
            "5/5 [==============================] - ETA: 0s - loss: 0.6792 - accuracy: 0.7668\n",
            "Epoch 47: val_loss did not improve from 2.26633\n",
            "5/5 [==============================] - 0s 87ms/step - loss: 0.6792 - accuracy: 0.7668 - val_loss: 2.4500 - val_accuracy: 0.5223\n",
            "Epoch 48/50\n",
            "5/5 [==============================] - ETA: 0s - loss: 0.6693 - accuracy: 0.7652\n",
            "Epoch 48: val_loss did not improve from 2.26633\n",
            "5/5 [==============================] - 0s 92ms/step - loss: 0.6693 - accuracy: 0.7652 - val_loss: 2.3916 - val_accuracy: 0.5159\n",
            "Epoch 49/50\n",
            "5/5 [==============================] - ETA: 0s - loss: 0.6101 - accuracy: 0.7796\n",
            "Epoch 49: val_loss did not improve from 2.26633\n",
            "5/5 [==============================] - 1s 133ms/step - loss: 0.6101 - accuracy: 0.7796 - val_loss: 2.4382 - val_accuracy: 0.5541\n",
            "Epoch 50/50\n",
            "5/5 [==============================] - ETA: 0s - loss: 0.6373 - accuracy: 0.7716\n",
            "Epoch 50: val_loss did not improve from 2.26633\n",
            "5/5 [==============================] - 1s 144ms/step - loss: 0.6373 - accuracy: 0.7716 - val_loss: 2.4334 - val_accuracy: 0.5223\n"
          ]
        }
      ]
    },
    {
      "cell_type": "markdown",
      "source": [
        "### Analysis of Model Training Performance (Loss and Accuracy)\n",
        "\n",
        "#### Overview\n",
        "The training of this model over 50 epochs shows a trend in both loss (a measure of error) and accuracy (a measure of correct predictions). This dual-metric evaluation provides a more comprehensive view of the model's performance.\n",
        "\n",
        "#### Observations\n",
        "- **Best Model Consideration**: The model saved at epoch 34 is likely the best model to use because it has the lowest validation loss.\n",
        "  - Loss = 2.29707\n",
        "  - Accuracy = .6438\n",
        "- **Potential Overfitting**: Towards the end, the model shows signs of overfitting, as indicated by the plateauing and slight increases in validation loss, despite the training loss continuing to decrease.\n",
        "\n",
        "#### Conclusion\n",
        "The model has demonstrated a capacity to learn and improve both in terms of reducing error and increasing prediction accuracy. However, the fluctuations and final plateau in validation metrics suggest a need for further tuning or regularization to enhance model generalization.\n"
      ],
      "metadata": {
        "id": "e_YFWGKh-kV_"
      }
    },
    {
      "cell_type": "markdown",
      "source": [
        "### Loading the Best Model\n",
        "This ensures that the version of the model that performed best on the validation data is used for predictions.\n"
      ],
      "metadata": {
        "id": "9QzUF9rY6bEU"
      }
    },
    {
      "cell_type": "code",
      "source": [
        "from keras.models import load_model\n",
        "model = load_model('best_model3.h5')"
      ],
      "metadata": {
        "id": "ltnjLjqfmYIo"
      },
      "execution_count": null,
      "outputs": []
    },
    {
      "cell_type": "markdown",
      "source": [
        "### Generating Music Predictions\n",
        "This function generates a sequence of predicted notes using the trained model. Starting with a random sequence from the validation set, it predicts the next note iteratively. The function is used to create five separate sequences, which are then flattened into a single combined sequence for further processing.\n"
      ],
      "metadata": {
        "id": "1DXRlm2b64dZ"
      }
    },
    {
      "cell_type": "code",
      "source": [
        "def generate_prediction(model, start_index, length=10, no_of_timesteps=32):\n",
        "    random_music = x_val[start_index]\n",
        "\n",
        "    predictions = []\n",
        "    for i in range(length):\n",
        "        random_music = random_music.reshape(1, no_of_timesteps)\n",
        "\n",
        "        prob = model.predict(random_music)[0]\n",
        "        y_pred = np.random.choice(range(len(prob)), p=prob)\n",
        "        predictions.append(y_pred)\n",
        "\n",
        "        random_music = np.insert(random_music[0], len(random_music[0]), y_pred)\n",
        "        random_music = random_music[1:]\n",
        "\n",
        "    return predictions\n",
        "\n",
        "# Generate 5 separate sequences\n",
        "sequences = []\n",
        "for _ in range(5):\n",
        "    ind = np.random.randint(0, len(x_val) - 1)\n",
        "    sequence = generate_prediction(model, ind)\n",
        "    sequences.append(sequence)\n",
        "\n",
        "# Flatten the list of lists into a single list\n",
        "combined_sequence = [note for sequence in sequences for note in sequence]\n",
        "print(combined_sequence)\n"
      ],
      "metadata": {
        "id": "wF87tLOZmYGg"
      },
      "execution_count": null,
      "outputs": []
    },
    {
      "cell_type": "markdown",
      "source": [
        "### Converting Integers Back to Notes\n"
      ],
      "metadata": {
        "id": "hdNAO8dI7Oz8"
      }
    },
    {
      "cell_type": "code",
      "source": [
        "x_int_to_note = dict((number, note_) for number, note_ in enumerate(unique_x))\n",
        "predicted_notes = [x_int_to_note[i] for i in combined_sequence]"
      ],
      "metadata": {
        "id": "iIKujZcMmYD1"
      },
      "execution_count": null,
      "outputs": []
    },
    {
      "cell_type": "markdown",
      "source": [
        "### Converting Predictions to MIDI Format\n",
        "This function takes the predicted notes and converts them into a MIDI format. It addresses both single notes and chords, assigning them to a violin instrument part. This allows the playback and evaluation of the generated music.\n"
      ],
      "metadata": {
        "id": "NNNL0_AG7Uan"
      }
    },
    {
      "cell_type": "code",
      "source": [
        "from music21 import note, chord, instrument, stream, pitch\n",
        "\n",
        "def convert_to_midi(prediction_output):\n",
        "    offset = 0\n",
        "    output_notes = []\n",
        "\n",
        "    # Creating a violin part\n",
        "    violin_part = stream.Part()\n",
        "    violin_part.insert(0, instrument.Violin())\n",
        "\n",
        "    for pattern in prediction_output:\n",
        "        # Check if the pattern is an integer or a float (MIDI note number)\n",
        "        if isinstance(pattern, (int, float)):\n",
        "            try:\n",
        "                # Convert float to int for MIDI note number\n",
        "                pattern = int(pattern)\n",
        "                new_note = note.Note(pattern)\n",
        "                new_note.storedInstrument = instrument.Violin()\n",
        "                new_note.offset = offset\n",
        "                output_notes.append(new_note)\n",
        "            except pitch.PitchException as e:\n",
        "                print(f\"Invalid MIDI note number: {pattern}, Error: {e}\")\n",
        "            offset += 0.5\n",
        "            continue\n",
        "\n",
        "        # Check if pattern is a string representing chords\n",
        "        elif isinstance(pattern, str) and ('.' in pattern or pattern.isdigit()):\n",
        "            notes_in_chord = pattern.split('.')\n",
        "            notes = []\n",
        "            for current_note in notes_in_chord:\n",
        "                try:\n",
        "                    new_note = note.Note(int(current_note))\n",
        "                    new_note.storedInstrument = instrument.Violin()\n",
        "                    notes.append(new_note)\n",
        "                except pitch.PitchException as e:\n",
        "                    print(f\"Invalid note pattern in chord: {current_note}, Error: {e}\")\n",
        "                    continue\n",
        "\n",
        "            if notes:\n",
        "                new_chord = chord.Chord(notes)\n",
        "                new_chord.offset = offset\n",
        "                output_notes.append(new_chord)\n",
        "\n",
        "        offset += 0.5\n",
        "\n",
        "    # Add notes to the violin part\n",
        "    for n in output_notes:\n",
        "        violin_part.append(n)\n",
        "\n",
        "    # Create a MIDI stream and write the file\n",
        "    midi_stream = stream.Stream()\n",
        "    midi_stream.append(violin_part)\n",
        "    midi_stream.write('midi', fp='music.mid')\n",
        "\n",
        "convert_to_midi(predicted_notes)\n"
      ],
      "metadata": {
        "id": "bW35_lSN4gap"
      },
      "execution_count": null,
      "outputs": []
    },
    {
      "cell_type": "markdown",
      "source": [
        "## Second Iteration of WaveNet Model Training\n",
        "\n",
        "### Goals\n",
        "- Address overfitting observed in the first model iteration.\n",
        "- Improve model generalization on validation data.\n",
        "\n",
        "### Updates\n",
        "1. **Model Architecture**: Add regularization, modify layer configurations.\n",
        "2. **Optimization**: Adjust learning rate, implement early stopping.\n",
        "3. **Data Handling**: Enhance data augmentation, revise feature engineering.\n",
        "4. **Training Approach**: Modifiy batch size and epoch strategy.\n",
        "5. **Hyperparameter Tuning**: Conduct systematic hyperparameter optimization."
      ],
      "metadata": {
        "id": "cYI1TQhmFMpi"
      }
    },
    {
      "cell_type": "markdown",
      "source": [
        "### Updated Model Architecture"
      ],
      "metadata": {
        "id": "zlmIaNegG_dT"
      }
    },
    {
      "cell_type": "code",
      "source": [
        "from keras.layers import Embedding, Conv1D, Dropout, MaxPool1D, GlobalMaxPool1D, Dense\n",
        "from keras.models import Sequential\n",
        "from keras.callbacks import EarlyStopping, ModelCheckpoint\n",
        "import keras.backend as K\n",
        "\n",
        "# Clearing previous session!\n",
        "K.clear_session()\n",
        "\n",
        "model = Sequential()\n",
        "\n",
        "# Embedding layer\n",
        "model.add(Embedding(len(unique_x), 100, input_length=32, trainable=True))\n",
        "\n",
        "# Convolutional Layer 1 - increased dropout\n",
        "model.add(Conv1D(64, 3, padding='causal', activation='relu'))\n",
        "model.add(Dropout(0.3))\n",
        "model.add(MaxPool1D(2))\n",
        "\n",
        "# Convolutional Layer 2 - consistent dropout to regularize\n",
        "model.add(Conv1D(128, 3, activation='relu', dilation_rate=2, padding='causal'))\n",
        "model.add(Dropout(0.3))\n",
        "model.add(MaxPool1D(2))\n",
        "\n",
        "# Convolutional Layer 3 - regularize\n",
        "model.add(Conv1D(256, 3, activation='relu', dilation_rate=4, padding='causal'))\n",
        "model.add(Dropout(0.3))\n",
        "model.add(MaxPool1D(2))\n",
        "\n",
        "# Global Max Pooling\n",
        "model.add(GlobalMaxPool1D())\n",
        "\n",
        "# Dense Layer - additional dropout layer\n",
        "model.add(Dense(256, activation='relu'))\n",
        "model.add(Dropout(0.3))\n",
        "model.add(Dense(len(unique_y), activation='softmax'))\n",
        "\n",
        "model.compile(loss='sparse_categorical_crossentropy', optimizer='adam', metrics=['accuracy'])\n",
        "\n",
        "model.summary()\n"
      ],
      "metadata": {
        "colab": {
          "base_uri": "https://localhost:8080/"
        },
        "id": "Rp7HhsD4FtFf",
        "outputId": "9eee5d62-7da0-4a8e-831e-7e922d79c394"
      },
      "execution_count": null,
      "outputs": [
        {
          "output_type": "stream",
          "name": "stdout",
          "text": [
            "Model: \"sequential\"\n",
            "_________________________________________________________________\n",
            " Layer (type)                Output Shape              Param #   \n",
            "=================================================================\n",
            " embedding (Embedding)       (None, 32, 100)           6700      \n",
            "                                                                 \n",
            " conv1d (Conv1D)             (None, 32, 64)            19264     \n",
            "                                                                 \n",
            " dropout (Dropout)           (None, 32, 64)            0         \n",
            "                                                                 \n",
            " max_pooling1d (MaxPooling1  (None, 16, 64)            0         \n",
            " D)                                                              \n",
            "                                                                 \n",
            " conv1d_1 (Conv1D)           (None, 16, 128)           24704     \n",
            "                                                                 \n",
            " dropout_1 (Dropout)         (None, 16, 128)           0         \n",
            "                                                                 \n",
            " max_pooling1d_1 (MaxPoolin  (None, 8, 128)            0         \n",
            " g1D)                                                            \n",
            "                                                                 \n",
            " conv1d_2 (Conv1D)           (None, 8, 256)            98560     \n",
            "                                                                 \n",
            " dropout_2 (Dropout)         (None, 8, 256)            0         \n",
            "                                                                 \n",
            " max_pooling1d_2 (MaxPoolin  (None, 4, 256)            0         \n",
            " g1D)                                                            \n",
            "                                                                 \n",
            " global_max_pooling1d (Glob  (None, 256)               0         \n",
            " alMaxPooling1D)                                                 \n",
            "                                                                 \n",
            " dense (Dense)               (None, 256)               65792     \n",
            "                                                                 \n",
            " dropout_3 (Dropout)         (None, 256)               0         \n",
            "                                                                 \n",
            " dense_1 (Dense)             (None, 54)                13878     \n",
            "                                                                 \n",
            "=================================================================\n",
            "Total params: 228898 (894.13 KB)\n",
            "Trainable params: 228898 (894.13 KB)\n",
            "Non-trainable params: 0 (0.00 Byte)\n",
            "_________________________________________________________________\n"
          ]
        }
      ]
    },
    {
      "cell_type": "markdown",
      "source": [
        "### Callbacks"
      ],
      "metadata": {
        "id": "8-SWA-3SGbtE"
      }
    },
    {
      "cell_type": "code",
      "source": [
        "early_stopping = EarlyStopping(monitor='val_loss', patience=5, verbose=1, mode='min')\n",
        "model_checkpoint = ModelCheckpoint('best_model_updated.h5', monitor='val_loss', mode='min', save_best_only=True, verbose=1)"
      ],
      "metadata": {
        "id": "9K1ING_tGLNw"
      },
      "execution_count": null,
      "outputs": []
    },
    {
      "cell_type": "markdown",
      "source": [
        "### Data Augmentation"
      ],
      "metadata": {
        "id": "NfouPZ7cHw7P"
      }
    },
    {
      "cell_type": "code",
      "source": [
        "def augment_sequence(sequence, max_shift=3):\n",
        "    # Shift the sequence by a small integer amount for augmentation\n",
        "    shift = random.randint(-max_shift, max_shift)\n",
        "    augmented_sequence = sequence + shift\n",
        "    augmented_sequence = np.clip(augmented_sequence, 0, len(unique_x) - 1)\n",
        "    return augmented_sequence\n",
        "\n",
        "# Augmenting the training data\n",
        "x_tr_augmented = [augment_sequence(seq) for seq in x_tr]\n",
        "y_tr_augmented = y_tr[:]\n",
        "\n",
        "# Convert augmented data to numpy arrays\n",
        "x_tr_augmented = np.array(x_tr_augmented, dtype='int32')\n",
        "\n",
        "x_val = np.array(x_val, dtype='int32')\n",
        "y_val = np.array(y_val, dtype='int32')"
      ],
      "metadata": {
        "id": "YZvFuwp9Lwf7"
      },
      "execution_count": null,
      "outputs": []
    },
    {
      "cell_type": "markdown",
      "source": [
        "### Training"
      ],
      "metadata": {
        "id": "5VnvX5rEGdsf"
      }
    },
    {
      "cell_type": "code",
      "source": [
        "history = model.fit(x_tr_augmented, y_tr_augmented,\n",
        "                    batch_size=128, # Adjusted batch size\n",
        "                    epochs=100, # Incrased epochs\n",
        "                    validation_data=(x_val, y_val),\n",
        "                    verbose=1,\n",
        "                    callbacks=[early_stopping, model_checkpoint])"
      ],
      "metadata": {
        "colab": {
          "base_uri": "https://localhost:8080/"
        },
        "id": "l44Pf47AMJc3",
        "outputId": "e8e8d95e-4e94-4fd0-941a-66f9a6d3ad6a"
      },
      "execution_count": null,
      "outputs": [
        {
          "output_type": "stream",
          "name": "stdout",
          "text": [
            "Epoch 1/100\n",
            "5/5 [==============================] - ETA: 0s - loss: 3.9630 - accuracy: 0.0575\n",
            "Epoch 1: val_loss improved from inf to 3.94564, saving model to best_model_updated.h5\n",
            "5/5 [==============================] - 4s 392ms/step - loss: 3.9630 - accuracy: 0.0575 - val_loss: 3.9456 - val_accuracy: 0.0318\n",
            "Epoch 2/100\n"
          ]
        },
        {
          "output_type": "stream",
          "name": "stderr",
          "text": [
            "/usr/local/lib/python3.10/dist-packages/keras/src/engine/training.py:3103: UserWarning: You are saving your model as an HDF5 file via `model.save()`. This file format is considered legacy. We recommend using instead the native Keras format, e.g. `model.save('my_model.keras')`.\n",
            "  saving_api.save_model(\n"
          ]
        },
        {
          "output_type": "stream",
          "name": "stdout",
          "text": [
            "5/5 [==============================] - ETA: 0s - loss: 3.8296 - accuracy: 0.0527\n",
            "Epoch 2: val_loss improved from 3.94564 to 3.79354, saving model to best_model_updated.h5\n",
            "5/5 [==============================] - 1s 151ms/step - loss: 3.8296 - accuracy: 0.0527 - val_loss: 3.7935 - val_accuracy: 0.0318\n",
            "Epoch 3/100\n",
            "5/5 [==============================] - ETA: 0s - loss: 3.6398 - accuracy: 0.0703\n",
            "Epoch 3: val_loss improved from 3.79354 to 3.63997, saving model to best_model_updated.h5\n",
            "5/5 [==============================] - 1s 135ms/step - loss: 3.6398 - accuracy: 0.0703 - val_loss: 3.6400 - val_accuracy: 0.0573\n",
            "Epoch 4/100\n",
            "5/5 [==============================] - ETA: 0s - loss: 3.5432 - accuracy: 0.0639\n",
            "Epoch 4: val_loss did not improve from 3.63997\n",
            "5/5 [==============================] - 0s 85ms/step - loss: 3.5432 - accuracy: 0.0639 - val_loss: 3.6836 - val_accuracy: 0.0828\n",
            "Epoch 5/100\n",
            "5/5 [==============================] - ETA: 0s - loss: 3.5436 - accuracy: 0.0639\n",
            "Epoch 5: val_loss did not improve from 3.63997\n",
            "5/5 [==============================] - 0s 92ms/step - loss: 3.5436 - accuracy: 0.0639 - val_loss: 3.6775 - val_accuracy: 0.0828\n",
            "Epoch 6/100\n",
            "5/5 [==============================] - ETA: 0s - loss: 3.4982 - accuracy: 0.0671\n",
            "Epoch 6: val_loss improved from 3.63997 to 3.61973, saving model to best_model_updated.h5\n",
            "5/5 [==============================] - 0s 95ms/step - loss: 3.4982 - accuracy: 0.0671 - val_loss: 3.6197 - val_accuracy: 0.1083\n",
            "Epoch 7/100\n",
            "5/5 [==============================] - ETA: 0s - loss: 3.4758 - accuracy: 0.0703\n",
            "Epoch 7: val_loss improved from 3.61973 to 3.60077, saving model to best_model_updated.h5\n",
            "5/5 [==============================] - 0s 84ms/step - loss: 3.4758 - accuracy: 0.0703 - val_loss: 3.6008 - val_accuracy: 0.0446\n",
            "Epoch 8/100\n",
            "5/5 [==============================] - ETA: 0s - loss: 3.4416 - accuracy: 0.0863\n",
            "Epoch 8: val_loss did not improve from 3.60077\n",
            "5/5 [==============================] - 0s 76ms/step - loss: 3.4416 - accuracy: 0.0863 - val_loss: 3.6150 - val_accuracy: 0.1146\n",
            "Epoch 9/100\n",
            "5/5 [==============================] - ETA: 0s - loss: 3.4070 - accuracy: 0.1182\n",
            "Epoch 9: val_loss did not improve from 3.60077\n",
            "5/5 [==============================] - 0s 74ms/step - loss: 3.4070 - accuracy: 0.1182 - val_loss: 3.6055 - val_accuracy: 0.1019\n",
            "Epoch 10/100\n",
            "5/5 [==============================] - ETA: 0s - loss: 3.3588 - accuracy: 0.1214\n",
            "Epoch 10: val_loss improved from 3.60077 to 3.56445, saving model to best_model_updated.h5\n",
            "5/5 [==============================] - 0s 103ms/step - loss: 3.3588 - accuracy: 0.1214 - val_loss: 3.5645 - val_accuracy: 0.1210\n",
            "Epoch 11/100\n",
            "5/5 [==============================] - ETA: 0s - loss: 3.3151 - accuracy: 0.1310\n",
            "Epoch 11: val_loss improved from 3.56445 to 3.55771, saving model to best_model_updated.h5\n",
            "5/5 [==============================] - 0s 92ms/step - loss: 3.3151 - accuracy: 0.1310 - val_loss: 3.5577 - val_accuracy: 0.1274\n",
            "Epoch 12/100\n",
            "5/5 [==============================] - ETA: 0s - loss: 3.2436 - accuracy: 0.1470\n",
            "Epoch 12: val_loss improved from 3.55771 to 3.52848, saving model to best_model_updated.h5\n",
            "5/5 [==============================] - 0s 82ms/step - loss: 3.2436 - accuracy: 0.1470 - val_loss: 3.5285 - val_accuracy: 0.1146\n",
            "Epoch 13/100\n",
            "5/5 [==============================] - ETA: 0s - loss: 3.1966 - accuracy: 0.1486\n",
            "Epoch 13: val_loss improved from 3.52848 to 3.49412, saving model to best_model_updated.h5\n",
            "5/5 [==============================] - 0s 89ms/step - loss: 3.1966 - accuracy: 0.1486 - val_loss: 3.4941 - val_accuracy: 0.1783\n",
            "Epoch 14/100\n",
            "5/5 [==============================] - ETA: 0s - loss: 3.1216 - accuracy: 0.1645\n",
            "Epoch 14: val_loss improved from 3.49412 to 3.44612, saving model to best_model_updated.h5\n",
            "5/5 [==============================] - 0s 90ms/step - loss: 3.1216 - accuracy: 0.1645 - val_loss: 3.4461 - val_accuracy: 0.1592\n",
            "Epoch 15/100\n",
            "5/5 [==============================] - ETA: 0s - loss: 3.0474 - accuracy: 0.1869\n",
            "Epoch 15: val_loss improved from 3.44612 to 3.42849, saving model to best_model_updated.h5\n",
            "5/5 [==============================] - 0s 102ms/step - loss: 3.0474 - accuracy: 0.1869 - val_loss: 3.4285 - val_accuracy: 0.2038\n",
            "Epoch 16/100\n",
            "5/5 [==============================] - ETA: 0s - loss: 2.9847 - accuracy: 0.2141\n",
            "Epoch 16: val_loss improved from 3.42849 to 3.42247, saving model to best_model_updated.h5\n",
            "5/5 [==============================] - 0s 89ms/step - loss: 2.9847 - accuracy: 0.2141 - val_loss: 3.4225 - val_accuracy: 0.2038\n",
            "Epoch 17/100\n",
            "5/5 [==============================] - ETA: 0s - loss: 2.9263 - accuracy: 0.2125\n",
            "Epoch 17: val_loss improved from 3.42247 to 3.38867, saving model to best_model_updated.h5\n",
            "5/5 [==============================] - 0s 104ms/step - loss: 2.9263 - accuracy: 0.2125 - val_loss: 3.3887 - val_accuracy: 0.1911\n",
            "Epoch 18/100\n",
            "5/5 [==============================] - ETA: 0s - loss: 2.8742 - accuracy: 0.2348\n",
            "Epoch 18: val_loss improved from 3.38867 to 3.38147, saving model to best_model_updated.h5\n",
            "5/5 [==============================] - 0s 102ms/step - loss: 2.8742 - accuracy: 0.2348 - val_loss: 3.3815 - val_accuracy: 0.1911\n",
            "Epoch 19/100\n",
            "5/5 [==============================] - ETA: 0s - loss: 2.8003 - accuracy: 0.2444\n",
            "Epoch 19: val_loss did not improve from 3.38147\n",
            "5/5 [==============================] - 0s 77ms/step - loss: 2.8003 - accuracy: 0.2444 - val_loss: 3.3871 - val_accuracy: 0.2166\n",
            "Epoch 20/100\n",
            "5/5 [==============================] - ETA: 0s - loss: 2.7414 - accuracy: 0.2652\n",
            "Epoch 20: val_loss improved from 3.38147 to 3.36905, saving model to best_model_updated.h5\n",
            "5/5 [==============================] - 1s 228ms/step - loss: 2.7414 - accuracy: 0.2652 - val_loss: 3.3691 - val_accuracy: 0.1783\n",
            "Epoch 21/100\n",
            "5/5 [==============================] - ETA: 0s - loss: 2.6970 - accuracy: 0.2716\n",
            "Epoch 21: val_loss did not improve from 3.36905\n",
            "5/5 [==============================] - 0s 82ms/step - loss: 2.6970 - accuracy: 0.2716 - val_loss: 3.3786 - val_accuracy: 0.2038\n",
            "Epoch 22/100\n",
            "5/5 [==============================] - ETA: 0s - loss: 2.6125 - accuracy: 0.2923\n",
            "Epoch 22: val_loss did not improve from 3.36905\n",
            "5/5 [==============================] - 0s 92ms/step - loss: 2.6125 - accuracy: 0.2923 - val_loss: 3.3732 - val_accuracy: 0.1592\n",
            "Epoch 23/100\n",
            "5/5 [==============================] - ETA: 0s - loss: 2.5540 - accuracy: 0.3019\n",
            "Epoch 23: val_loss improved from 3.36905 to 3.35965, saving model to best_model_updated.h5\n",
            "5/5 [==============================] - 0s 95ms/step - loss: 2.5540 - accuracy: 0.3019 - val_loss: 3.3596 - val_accuracy: 0.1656\n",
            "Epoch 24/100\n",
            "5/5 [==============================] - ETA: 0s - loss: 2.5173 - accuracy: 0.3067\n",
            "Epoch 24: val_loss improved from 3.35965 to 3.34086, saving model to best_model_updated.h5\n",
            "5/5 [==============================] - 0s 104ms/step - loss: 2.5173 - accuracy: 0.3067 - val_loss: 3.3409 - val_accuracy: 0.1656\n",
            "Epoch 25/100\n",
            "5/5 [==============================] - ETA: 0s - loss: 2.4502 - accuracy: 0.3067\n",
            "Epoch 25: val_loss did not improve from 3.34086\n",
            "5/5 [==============================] - 0s 102ms/step - loss: 2.4502 - accuracy: 0.3067 - val_loss: 3.3515 - val_accuracy: 0.1529\n",
            "Epoch 26/100\n",
            "5/5 [==============================] - ETA: 0s - loss: 2.3606 - accuracy: 0.3498\n",
            "Epoch 26: val_loss improved from 3.34086 to 3.32726, saving model to best_model_updated.h5\n",
            "5/5 [==============================] - 1s 152ms/step - loss: 2.3606 - accuracy: 0.3498 - val_loss: 3.3273 - val_accuracy: 0.1847\n",
            "Epoch 27/100\n",
            "5/5 [==============================] - ETA: 0s - loss: 2.3535 - accuracy: 0.3450\n",
            "Epoch 27: val_loss improved from 3.32726 to 3.30962, saving model to best_model_updated.h5\n",
            "5/5 [==============================] - 1s 146ms/step - loss: 2.3535 - accuracy: 0.3450 - val_loss: 3.3096 - val_accuracy: 0.1656\n",
            "Epoch 28/100\n",
            "5/5 [==============================] - ETA: 0s - loss: 2.2766 - accuracy: 0.3722\n",
            "Epoch 28: val_loss improved from 3.30962 to 3.27373, saving model to best_model_updated.h5\n",
            "5/5 [==============================] - 1s 137ms/step - loss: 2.2766 - accuracy: 0.3722 - val_loss: 3.2737 - val_accuracy: 0.1720\n",
            "Epoch 29/100\n",
            "5/5 [==============================] - ETA: 0s - loss: 2.1568 - accuracy: 0.4058\n",
            "Epoch 29: val_loss improved from 3.27373 to 3.21675, saving model to best_model_updated.h5\n",
            "5/5 [==============================] - 1s 142ms/step - loss: 2.1568 - accuracy: 0.4058 - val_loss: 3.2168 - val_accuracy: 0.2229\n",
            "Epoch 30/100\n",
            "5/5 [==============================] - ETA: 0s - loss: 2.1696 - accuracy: 0.3834\n",
            "Epoch 30: val_loss did not improve from 3.21675\n",
            "5/5 [==============================] - 1s 137ms/step - loss: 2.1696 - accuracy: 0.3834 - val_loss: 3.2355 - val_accuracy: 0.2611\n",
            "Epoch 31/100\n",
            "5/5 [==============================] - ETA: 0s - loss: 2.0895 - accuracy: 0.4073\n",
            "Epoch 31: val_loss did not improve from 3.21675\n",
            "5/5 [==============================] - 1s 132ms/step - loss: 2.0895 - accuracy: 0.4073 - val_loss: 3.2217 - val_accuracy: 0.2484\n",
            "Epoch 32/100\n",
            "5/5 [==============================] - ETA: 0s - loss: 2.0928 - accuracy: 0.4217\n",
            "Epoch 32: val_loss improved from 3.21675 to 3.18861, saving model to best_model_updated.h5\n",
            "5/5 [==============================] - 1s 133ms/step - loss: 2.0928 - accuracy: 0.4217 - val_loss: 3.1886 - val_accuracy: 0.2420\n",
            "Epoch 33/100\n",
            "5/5 [==============================] - ETA: 0s - loss: 2.0076 - accuracy: 0.4361\n",
            "Epoch 33: val_loss did not improve from 3.18861\n",
            "5/5 [==============================] - 1s 126ms/step - loss: 2.0076 - accuracy: 0.4361 - val_loss: 3.1940 - val_accuracy: 0.2675\n",
            "Epoch 34/100\n",
            "5/5 [==============================] - ETA: 0s - loss: 1.9232 - accuracy: 0.4377\n",
            "Epoch 34: val_loss improved from 3.18861 to 3.14533, saving model to best_model_updated.h5\n",
            "5/5 [==============================] - 0s 97ms/step - loss: 1.9232 - accuracy: 0.4377 - val_loss: 3.1453 - val_accuracy: 0.2548\n",
            "Epoch 35/100\n",
            "5/5 [==============================] - ETA: 0s - loss: 1.8325 - accuracy: 0.4505\n",
            "Epoch 35: val_loss did not improve from 3.14533\n",
            "5/5 [==============================] - 0s 75ms/step - loss: 1.8325 - accuracy: 0.4505 - val_loss: 3.1455 - val_accuracy: 0.2803\n",
            "Epoch 36/100\n",
            "5/5 [==============================] - ETA: 0s - loss: 1.7587 - accuracy: 0.5112\n",
            "Epoch 36: val_loss did not improve from 3.14533\n",
            "5/5 [==============================] - 0s 74ms/step - loss: 1.7587 - accuracy: 0.5112 - val_loss: 3.1643 - val_accuracy: 0.2866\n",
            "Epoch 37/100\n",
            "5/5 [==============================] - ETA: 0s - loss: 1.6860 - accuracy: 0.5032\n",
            "Epoch 37: val_loss improved from 3.14533 to 3.11492, saving model to best_model_updated.h5\n",
            "5/5 [==============================] - 0s 83ms/step - loss: 1.6860 - accuracy: 0.5032 - val_loss: 3.1149 - val_accuracy: 0.2994\n",
            "Epoch 38/100\n",
            "5/5 [==============================] - ETA: 0s - loss: 1.6678 - accuracy: 0.5096\n",
            "Epoch 38: val_loss did not improve from 3.11492\n",
            "5/5 [==============================] - 0s 78ms/step - loss: 1.6678 - accuracy: 0.5096 - val_loss: 3.1857 - val_accuracy: 0.2930\n",
            "Epoch 39/100\n",
            "5/5 [==============================] - ETA: 0s - loss: 1.6504 - accuracy: 0.5112\n",
            "Epoch 39: val_loss did not improve from 3.11492\n",
            "5/5 [==============================] - 0s 74ms/step - loss: 1.6504 - accuracy: 0.5112 - val_loss: 3.1261 - val_accuracy: 0.2675\n",
            "Epoch 40/100\n",
            "5/5 [==============================] - ETA: 0s - loss: 1.5680 - accuracy: 0.5240\n",
            "Epoch 40: val_loss did not improve from 3.11492\n",
            "5/5 [==============================] - 0s 74ms/step - loss: 1.5680 - accuracy: 0.5240 - val_loss: 3.1652 - val_accuracy: 0.2739\n",
            "Epoch 41/100\n",
            "5/5 [==============================] - ETA: 0s - loss: 1.5459 - accuracy: 0.5272\n",
            "Epoch 41: val_loss did not improve from 3.11492\n",
            "5/5 [==============================] - 0s 80ms/step - loss: 1.5459 - accuracy: 0.5272 - val_loss: 3.1644 - val_accuracy: 0.2803\n",
            "Epoch 42/100\n",
            "5/5 [==============================] - ETA: 0s - loss: 1.4822 - accuracy: 0.5719\n",
            "Epoch 42: val_loss did not improve from 3.11492\n",
            "5/5 [==============================] - 0s 94ms/step - loss: 1.4822 - accuracy: 0.5719 - val_loss: 3.1724 - val_accuracy: 0.2930\n",
            "Epoch 42: early stopping\n"
          ]
        }
      ]
    },
    {
      "cell_type": "markdown",
      "source": [
        "### Analysis of Second Iteration Model\n",
        "\n",
        "#### Overview\n",
        "The model's training results over 42 epochs before early stopping.\n",
        "\n",
        "#### Observations\n",
        "**Moderate Learning:** The model showed moderate learning capability with some improvements in loss and accuracy, but not significant.\n",
        "**Generalization Gap:** There is a noticeable gap between training and validation performance, suggesting issues with generalization.\n",
        "- **Best Model Consideration**: The model saved at epoch 37 is likely the best model to use because it has the lowest validation loss.\n",
        "  - Loss = 3.11492\n",
        "  - Accuracy = .5032\n",
        "\n",
        "### Conclusion\n",
        "The model has shown some learning capability, but there is significant room for improvement, especially with generalization to validation data."
      ],
      "metadata": {
        "id": "yqJanhXPN5vF"
      }
    },
    {
      "cell_type": "markdown",
      "source": [
        "### Generating Predictions & Converting to MIDI"
      ],
      "metadata": {
        "id": "1G6lPb-_XAlf"
      }
    },
    {
      "cell_type": "code",
      "source": [
        "model = load_model('best_model_updated.h5')"
      ],
      "metadata": {
        "id": "EYHHr3FmTqCk"
      },
      "execution_count": null,
      "outputs": []
    },
    {
      "cell_type": "code",
      "source": [
        "def generate_prediction(model, start_index, length=10, no_of_timesteps=32):\n",
        "    random_music = x_val[start_index]\n",
        "\n",
        "    predictions = []\n",
        "    for i in range(length):\n",
        "        random_music = random_music.reshape(1, no_of_timesteps)\n",
        "\n",
        "        prob = model.predict(random_music)[0]\n",
        "        y_pred = np.random.choice(range(len(prob)), p=prob)\n",
        "        predictions.append(y_pred)\n",
        "\n",
        "        random_music = np.insert(random_music[0], len(random_music[0]), y_pred)\n",
        "        random_music = random_music[1:]\n",
        "\n",
        "    return predictions\n",
        "\n",
        "# Generate 5 separate sequences\n",
        "sequences = []\n",
        "for _ in range(5):\n",
        "    ind = np.random.randint(0, len(x_val) - 1)\n",
        "    sequence = generate_prediction(model, ind)\n",
        "    sequences.append(sequence)\n",
        "\n",
        "# Flatten the list of lists into a single list\n",
        "combined_sequence_2 = [note for sequence in sequences for note in sequence]\n",
        "#print(combined_sequence_2)\n"
      ],
      "metadata": {
        "id": "N9Ta6tH_WGwy"
      },
      "execution_count": null,
      "outputs": []
    },
    {
      "cell_type": "code",
      "source": [
        "x_int_to_note = dict((number, note_) for number, note_ in enumerate(unique_x))\n",
        "predicted_notes_2 = [x_int_to_note[i] for i in combined_sequence_2]"
      ],
      "metadata": {
        "id": "ulrsB2mFWbOd"
      },
      "execution_count": null,
      "outputs": []
    },
    {
      "cell_type": "code",
      "source": [
        "def convert_to_midi(prediction_output):\n",
        "    offset = 0\n",
        "    output_notes = []\n",
        "\n",
        "    # Creating a violin part\n",
        "    violin_part = stream.Part()\n",
        "    violin_part.insert(0, instrument.Violin())\n",
        "\n",
        "    for pattern in prediction_output:\n",
        "        # Check if the pattern is an integer or a float (MIDI note number)\n",
        "        if isinstance(pattern, (int, float)):\n",
        "            try:\n",
        "                # Convert float to int for MIDI note number\n",
        "                pattern = int(pattern)\n",
        "                new_note = note.Note(pattern)\n",
        "                new_note.storedInstrument = instrument.Violin()\n",
        "                new_note.offset = offset\n",
        "                output_notes.append(new_note)\n",
        "            except pitch.PitchException as e:\n",
        "                print(f\"Invalid MIDI note number: {pattern}, Error: {e}\")\n",
        "            offset += 0.5\n",
        "            continue\n",
        "\n",
        "        # Check if pattern is a string representing chords\n",
        "        elif isinstance(pattern, str) and ('.' in pattern or pattern.isdigit()):\n",
        "            notes_in_chord = pattern.split('.')\n",
        "            notes = []\n",
        "            for current_note in notes_in_chord:\n",
        "                try:\n",
        "                    new_note = note.Note(int(current_note))\n",
        "                    new_note.storedInstrument = instrument.Violin()\n",
        "                    notes.append(new_note)\n",
        "                except pitch.PitchException as e:\n",
        "                    print(f\"Invalid note pattern in chord: {current_note}, Error: {e}\")\n",
        "                    continue\n",
        "\n",
        "            if notes:\n",
        "                new_chord = chord.Chord(notes)\n",
        "                new_chord.offset = offset\n",
        "                output_notes.append(new_chord)\n",
        "\n",
        "        offset += 0.5\n",
        "\n",
        "    # Add notes to the violin part\n",
        "    for n in output_notes:\n",
        "        violin_part.append(n)\n",
        "\n",
        "    # Create a MIDI stream and write the file\n",
        "    midi_stream = stream.Stream()\n",
        "    midi_stream.append(violin_part)\n",
        "    midi_stream.write('midi', fp='music2.mid')\n",
        "\n",
        "convert_to_midi(predicted_notes_2)\n"
      ],
      "metadata": {
        "id": "v4XDz2w8WjMY"
      },
      "execution_count": null,
      "outputs": []
    },
    {
      "cell_type": "markdown",
      "source": [
        "# Proceed to 'Model_2_LSTM.ipynb'\n"
      ],
      "metadata": {
        "id": "nI8RDAbqPS4b"
      }
    },
    {
      "cell_type": "code",
      "source": [],
      "metadata": {
        "id": "lzWirT8RNZYF"
      },
      "execution_count": null,
      "outputs": []
    }
  ]
}