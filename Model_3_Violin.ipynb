{
  "nbformat": 4,
  "nbformat_minor": 0,
  "metadata": {
    "colab": {
      "provenance": []
    },
    "kernelspec": {
      "name": "python3",
      "display_name": "Python 3"
    },
    "language_info": {
      "name": "python"
    }
  },
  "cells": [
    {
      "cell_type": "code",
      "source": [
        "from google.colab import drive\n",
        "drive.mount('/content/gdrive')"
      ],
      "metadata": {
        "colab": {
          "base_uri": "https://localhost:8080/"
        },
        "id": "_-tkIHednLFu",
        "outputId": "623c6df9-2f57-4fc6-ee90-2a7f50f7973c"
      },
      "execution_count": 1,
      "outputs": [
        {
          "output_type": "stream",
          "name": "stdout",
          "text": [
            "Mounted at /content/gdrive\n"
          ]
        }
      ]
    },
    {
      "cell_type": "markdown",
      "source": [
        "### Data Preparation\n",
        "Adjusting note representation to include note duration and time offsets."
      ],
      "metadata": {
        "id": "s7OiSdrmRt4D"
      }
    },
    {
      "cell_type": "code",
      "execution_count": 2,
      "metadata": {
        "colab": {
          "base_uri": "https://localhost:8080/"
        },
        "id": "2-ATcHWKkMve",
        "outputId": "56855527-5886-4842-df69-f7d6cbed5f9f"
      },
      "outputs": [
        {
          "output_type": "stream",
          "name": "stdout",
          "text": [
            "Loading Music File: /content/gdrive/MyDrive/Violin_Comp_Data/midi_150/033xqXE1Hfd9pDhXWY9Wea.mid\n",
            "Loading Music File: /content/gdrive/MyDrive/Violin_Comp_Data/midi_150/1JmbcLSDwAvJIhkO5TCf0C.mid\n",
            "Loading Music File: /content/gdrive/MyDrive/Violin_Comp_Data/midi_150/1muVW0T3Q8Rr7QPeHh79pQ.mid\n",
            "Loading Music File: /content/gdrive/MyDrive/Violin_Comp_Data/midi_150/27pz9xa74coqoChhxpMoDp.mid\n",
            "Loading Music File: /content/gdrive/MyDrive/Violin_Comp_Data/midi_150/1pxlXIgPnAUyV6g4UzfuCd.mid\n",
            "Loading Music File: /content/gdrive/MyDrive/Violin_Comp_Data/midi_150/2oXF9rUca0vDnFeL8T18uz.mid\n",
            "Loading Music File: /content/gdrive/MyDrive/Violin_Comp_Data/midi_150/0YYMtQfLuCW7CGy8V3HP3g.mid\n",
            "Loading Music File: /content/gdrive/MyDrive/Violin_Comp_Data/midi_150/4GyyVVKOWdmXNemCZBL4hR (1).mid\n",
            "Loading Music File: /content/gdrive/MyDrive/Violin_Comp_Data/midi_150/7eQAWYzjvbiUSCozGxnVxr.mid\n",
            "Loading Music File: /content/gdrive/MyDrive/Violin_Comp_Data/midi_150/1bGVILNA1XjJ5Hs0z16c6J.mid\n",
            "Loading Music File: /content/gdrive/MyDrive/Violin_Comp_Data/midi_150/6udjW2FpMvHUaQvgnJ7tOX (1).mid\n",
            "Loading Music File: /content/gdrive/MyDrive/Violin_Comp_Data/midi_150/3Xgq65C13PdBvgz8vX89yg.mid\n",
            "Loading Music File: /content/gdrive/MyDrive/Violin_Comp_Data/midi_150/693QuyzoJFW4lUWLcziTmF.mid\n",
            "Loading Music File: /content/gdrive/MyDrive/Violin_Comp_Data/midi_150/4yt4nOngwk0SisRMeqPGvY.mid\n",
            "Loading Music File: /content/gdrive/MyDrive/Violin_Comp_Data/midi_150/2xeMCvnC3MqlNT8a9ZEzy2.mid\n",
            "Loading Music File: /content/gdrive/MyDrive/Violin_Comp_Data/midi_150/23UimTh5RgCQH04vh65ZbS.mid\n",
            "Loading Music File: /content/gdrive/MyDrive/Violin_Comp_Data/midi_150/2HIYjy3rVeiY9WI0skTpXk.mid\n",
            "Loading Music File: /content/gdrive/MyDrive/Violin_Comp_Data/midi_150/2stASiOwfG95fSRXqPpld4.mid\n",
            "Loading Music File: /content/gdrive/MyDrive/Violin_Comp_Data/midi_150/2zwSbnMU6UPx9WxdBNN2DP.mid\n",
            "Loading Music File: /content/gdrive/MyDrive/Violin_Comp_Data/midi_150/4b9mt1jlo2PVzLu2SxeVDA.mid\n",
            "Loading Music File: /content/gdrive/MyDrive/Violin_Comp_Data/midi_150/5oXz9yVejOuDly4cW396d1.mid\n",
            "Loading Music File: /content/gdrive/MyDrive/Violin_Comp_Data/midi_150/0cVrXRirMUQL9eNYFZUtOs.mid\n",
            "Loading Music File: /content/gdrive/MyDrive/Violin_Comp_Data/midi_150/0cpB4fTzP0RhG6m6IEMjUh.mid\n",
            "Loading Music File: /content/gdrive/MyDrive/Violin_Comp_Data/midi_150/5iLraNOAUr8aFw8OwITqHz.mid\n",
            "Loading Music File: /content/gdrive/MyDrive/Violin_Comp_Data/midi_150/3BxharMt4xi43dV8GXVeuX.mid\n",
            "Loading Music File: /content/gdrive/MyDrive/Violin_Comp_Data/midi_150/6QHfZtZg3Grt8vgElnH3zh.mid\n",
            "Loading Music File: /content/gdrive/MyDrive/Violin_Comp_Data/midi_150/3aPS09tbhcgoW2gNuoISym.mid\n",
            "Loading Music File: /content/gdrive/MyDrive/Violin_Comp_Data/midi_150/1CA6wGSEBS6uWlfFVoKUFk.mid\n",
            "Loading Music File: /content/gdrive/MyDrive/Violin_Comp_Data/midi_150/3goJ7z3aanXrFmsZZgn4Ev.mid\n",
            "Loading Music File: /content/gdrive/MyDrive/Violin_Comp_Data/midi_150/5rX8J2Hi7z8CduVo9mU9HH.mid\n",
            "Loading Music File: /content/gdrive/MyDrive/Violin_Comp_Data/midi_150/2hWRBixwj7CYVjKkxgFpge.mid\n",
            "Loading Music File: /content/gdrive/MyDrive/Violin_Comp_Data/midi_150/5A7izxKl6mNNx6dWgH5rQe.mid\n",
            "Loading Music File: /content/gdrive/MyDrive/Violin_Comp_Data/midi_150/5ykSaNgZghKR6WOr4UIjei.mid\n",
            "Loading Music File: /content/gdrive/MyDrive/Violin_Comp_Data/midi_150/1oPgLhiXzAQ2FL4NDyy6T5.mid\n",
            "Loading Music File: /content/gdrive/MyDrive/Violin_Comp_Data/midi_150/4c4v5NEYuofWnBx4Pbf2kl.mid\n",
            "Loading Music File: /content/gdrive/MyDrive/Violin_Comp_Data/midi_150/7r5iAbxruCUPwAFaIuQzHc.mid\n",
            "Loading Music File: /content/gdrive/MyDrive/Violin_Comp_Data/midi_150/32z9r39Ikfu8IY1w1XYXO2 (1).mid\n",
            "Loading Music File: /content/gdrive/MyDrive/Violin_Comp_Data/midi_150/36KTjwL6CA94PTxkFVijdI.mid\n",
            "Loading Music File: /content/gdrive/MyDrive/Violin_Comp_Data/midi_150/0cmtKFuTzS4BL7LhnOF5OX.mid\n",
            "Loading Music File: /content/gdrive/MyDrive/Violin_Comp_Data/midi_150/5dyQIwdcTzK8Ah6u6XuzBj.mid\n",
            "Loading Music File: /content/gdrive/MyDrive/Violin_Comp_Data/midi_150/53JEf5hWwzRObhpuVgkHzY.mid\n",
            "Loading Music File: /content/gdrive/MyDrive/Violin_Comp_Data/midi_150/0fCsKcJIZm6fnlCgxqMpvz.mid\n",
            "Loading Music File: /content/gdrive/MyDrive/Violin_Comp_Data/midi_150/6TN1XFO9hEV8yyecSv70mN.mid\n",
            "Loading Music File: /content/gdrive/MyDrive/Violin_Comp_Data/midi_150/7za6EnrQNgLxVvMUZxB6N6.mid\n",
            "Loading Music File: /content/gdrive/MyDrive/Violin_Comp_Data/midi_150/6dKMHo2rpxKBCUeVIk4h27.mid\n",
            "Loading Music File: /content/gdrive/MyDrive/Violin_Comp_Data/midi_150/3N2kCEdCMmwFRFGRnGPfZr.mid\n",
            "Loading Music File: /content/gdrive/MyDrive/Violin_Comp_Data/midi_150/7MRtsigvGPEKxsCR4VYttX.mid\n",
            "Loading Music File: /content/gdrive/MyDrive/Violin_Comp_Data/midi_150/7MkE8rq7NHfr3qIiZP3omZ.mid\n",
            "Loading Music File: /content/gdrive/MyDrive/Violin_Comp_Data/midi_150/2EM9eE0Qwxw5vXIZsl9QCt.mid\n",
            "Loading Music File: /content/gdrive/MyDrive/Violin_Comp_Data/midi_150/1xnDdK24TUDbOj4qQoBzek.mid\n",
            "Loading Music File: /content/gdrive/MyDrive/Violin_Comp_Data/midi_150/7MRDRApIZBlwx6yYW8Hv69.mid\n",
            "Loading Music File: /content/gdrive/MyDrive/Violin_Comp_Data/midi_150/2V8a4kW5Kz8Td9AmzCkJsu.mid\n",
            "Loading Music File: /content/gdrive/MyDrive/Violin_Comp_Data/midi_150/6q71rAaDzLU6N0cK9t1hyY.mid\n",
            "Loading Music File: /content/gdrive/MyDrive/Violin_Comp_Data/midi_150/2oQeN9275lb2XyMhXvZHGH.mid\n",
            "Loading Music File: /content/gdrive/MyDrive/Violin_Comp_Data/midi_150/7IwEqTGxfzgMIWsuRoF71u.mid\n",
            "Loading Music File: /content/gdrive/MyDrive/Violin_Comp_Data/midi_150/48qHgm214DzClsHRyXsQeG.mid\n",
            "Loading Music File: /content/gdrive/MyDrive/Violin_Comp_Data/midi_150/08orOmvn9j4PTAp3yFEMp5.mid\n",
            "Loading Music File: /content/gdrive/MyDrive/Violin_Comp_Data/midi_150/7lk8vjMn8A1b7hJgO7V5NR.mid\n",
            "Loading Music File: /content/gdrive/MyDrive/Violin_Comp_Data/midi_150/3eEwefS4dOcHIxXXL1I2tI.mid\n",
            "Loading Music File: /content/gdrive/MyDrive/Violin_Comp_Data/midi_150/5Yf4EaxbFqdpgWhKcZS8y2.mid\n",
            "Loading Music File: /content/gdrive/MyDrive/Violin_Comp_Data/midi_150/4ftnG8QGP81RhdlSLIFZlM.mid\n",
            "Loading Music File: /content/gdrive/MyDrive/Violin_Comp_Data/midi_150/2RBChW21NkesrtXkL7rzWi.mid\n",
            "Loading Music File: /content/gdrive/MyDrive/Violin_Comp_Data/midi_150/2RMJ4iXu8oh0EeirNqk7n2.mid\n",
            "Loading Music File: /content/gdrive/MyDrive/Violin_Comp_Data/midi_150/3XZWmafXFOOsA8IEaxCG3C.mid\n",
            "Loading Music File: /content/gdrive/MyDrive/Violin_Comp_Data/midi_150/3hQKunAo3cidso3Ela8GaD.mid\n",
            "Loading Music File: /content/gdrive/MyDrive/Violin_Comp_Data/midi_150/2oQO3vpeceRkgON0fVvYGz.mid\n",
            "Loading Music File: /content/gdrive/MyDrive/Violin_Comp_Data/midi_150/3pl7zYQFmqFye50Pp2Fbo5.mid\n",
            "Loading Music File: /content/gdrive/MyDrive/Violin_Comp_Data/midi_150/4GyyVVKOWdmXNemCZBL4hR.mid\n",
            "Loading Music File: /content/gdrive/MyDrive/Violin_Comp_Data/midi_150/3ydsV3JfsqFXcbmqT5CwBw.mid\n",
            "Loading Music File: /content/gdrive/MyDrive/Violin_Comp_Data/midi_150/7HDvkwGCgqp5sIAUy9WnZ4.mid\n",
            "Loading Music File: /content/gdrive/MyDrive/Violin_Comp_Data/midi_150/4U8VnuoD8t1WJAUiMngiIn.mid\n",
            "Loading Music File: /content/gdrive/MyDrive/Violin_Comp_Data/midi_150/6sW9qPzibZXeRLkW9qv63l.mid\n",
            "Loading Music File: /content/gdrive/MyDrive/Violin_Comp_Data/midi_150/5UuxtcKdKfFUkRLHKvgA2a.mid\n",
            "Loading Music File: /content/gdrive/MyDrive/Violin_Comp_Data/midi_150/09bi787ZEVDP6tYXmruIyh.mid\n",
            "Loading Music File: /content/gdrive/MyDrive/Violin_Comp_Data/midi_150/4lV2erOHFvbLPSDVC7aQoF.mid\n",
            "Loading Music File: /content/gdrive/MyDrive/Violin_Comp_Data/midi_150/5WXERPtlKQBZ6ny94RBWIz.mid\n",
            "Loading Music File: /content/gdrive/MyDrive/Violin_Comp_Data/midi_150/6O9A0GUXJHrPjpLR0aYF5A.mid\n",
            "Loading Music File: /content/gdrive/MyDrive/Violin_Comp_Data/midi_150/7zx1W2e0Oq55T7sX1VpIKv.mid\n",
            "Loading Music File: /content/gdrive/MyDrive/Violin_Comp_Data/midi_150/4BoAvtGUC3U6asds2r3nXN.mid\n",
            "Loading Music File: /content/gdrive/MyDrive/Violin_Comp_Data/midi_150/4cV0yJJPb1gb42a3mUsq2V.mid\n",
            "Loading Music File: /content/gdrive/MyDrive/Violin_Comp_Data/midi_150/6Dwnbs0rb2d2frN4eRnWKO.mid\n",
            "Loading Music File: /content/gdrive/MyDrive/Violin_Comp_Data/midi_150/5HQRJi0jh34CLpw6DNyi2f.mid\n",
            "Loading Music File: /content/gdrive/MyDrive/Violin_Comp_Data/midi_150/3i5JjTBzull8sLJTMdZ6MU.mid\n",
            "Loading Music File: /content/gdrive/MyDrive/Violin_Comp_Data/midi_150/6Rrp3CuBeLTswkz1DA6pE4.mid\n",
            "Loading Music File: /content/gdrive/MyDrive/Violin_Comp_Data/midi_150/4pAMvVVJ1BfPI5hF6oRvUa.mid\n",
            "Loading Music File: /content/gdrive/MyDrive/Violin_Comp_Data/midi_150/254iRqw2yxRvgFlm2iNq8N.mid\n",
            "Loading Music File: /content/gdrive/MyDrive/Violin_Comp_Data/midi_150/32z9r39Ikfu8IY1w1XYXO2.mid\n",
            "Loading Music File: /content/gdrive/MyDrive/Violin_Comp_Data/midi_150/3d1kQyqK0SgiQmvWzkVVcC.mid\n",
            "Loading Music File: /content/gdrive/MyDrive/Violin_Comp_Data/midi_150/3Xevdhru7FuBeyccAmMLEk.mid\n",
            "Loading Music File: /content/gdrive/MyDrive/Violin_Comp_Data/midi_150/2z4paMcIwPzhmBFHTaxB3A.mid\n",
            "Loading Music File: /content/gdrive/MyDrive/Violin_Comp_Data/midi_150/2uPMLzVcXLdIxe2nMwQUqp.mid\n",
            "Loading Music File: /content/gdrive/MyDrive/Violin_Comp_Data/midi_150/6do7kLsJyDQPGfJyPQ7ffP.mid\n",
            "Loading Music File: /content/gdrive/MyDrive/Violin_Comp_Data/midi_150/2Y7wgkozMEMEgTy1H4rnXA.mid\n",
            "Loading Music File: /content/gdrive/MyDrive/Violin_Comp_Data/midi_150/3MgQ4M7zxtsSX8gH62dF7v.mid\n",
            "Loading Music File: /content/gdrive/MyDrive/Violin_Comp_Data/midi_150/4zIFAeQ00CZ8VKzZjIEuuY.mid\n",
            "Loading Music File: /content/gdrive/MyDrive/Violin_Comp_Data/midi_150/3JMDJrW3kuH8KJWA0hi3As.mid\n",
            "Loading Music File: /content/gdrive/MyDrive/Violin_Comp_Data/midi_150/4gTayFVqxnoxCfutrUNI8G.mid\n",
            "Loading Music File: /content/gdrive/MyDrive/Violin_Comp_Data/midi_150/29f0klriby3ZHR8D5pPALf.mid\n",
            "Loading Music File: /content/gdrive/MyDrive/Violin_Comp_Data/midi_150/4x9v31xkCPhGYWOhh1Jqo6.mid\n",
            "Loading Music File: /content/gdrive/MyDrive/Violin_Comp_Data/midi_150/3MCuFvMXI25phrAXBsTpf1.mid\n",
            "Loading Music File: /content/gdrive/MyDrive/Violin_Comp_Data/midi_150/2s26J6TYL6PJqeNBfWyFAk.mid\n",
            "Loading Music File: /content/gdrive/MyDrive/Violin_Comp_Data/midi_150/3F33Oyqnhx6skZQRsYI6w3.mid\n",
            "Loading Music File: /content/gdrive/MyDrive/Violin_Comp_Data/midi_150/6HtoRK1yqURtNXyB4NVpi3.mid\n",
            "Loading Music File: /content/gdrive/MyDrive/Violin_Comp_Data/midi_150/5RjRI8Bi9JR1OpVoZIBn2k.mid\n",
            "Loading Music File: /content/gdrive/MyDrive/Violin_Comp_Data/midi_150/6kfw3ZZFaPSRyN9792rOL0.mid\n",
            "Loading Music File: /content/gdrive/MyDrive/Violin_Comp_Data/midi_150/2T8qfNwFZtvK3hhkYZOL8H.mid\n",
            "Loading Music File: /content/gdrive/MyDrive/Violin_Comp_Data/midi_150/6udjW2FpMvHUaQvgnJ7tOX.mid\n",
            "Loading Music File: /content/gdrive/MyDrive/Violin_Comp_Data/midi_150/5dtqfsWr2nmxduWdjkpjc8.mid\n",
            "Loading Music File: /content/gdrive/MyDrive/Violin_Comp_Data/midi_150/2Y6Qr0s9Vnq55sJ8f4SAIv.mid\n",
            "Loading Music File: /content/gdrive/MyDrive/Violin_Comp_Data/midi_150/6naFafEAdcfvqmBq3xprWg.mid\n",
            "Loading Music File: /content/gdrive/MyDrive/Violin_Comp_Data/midi_150/5Rf0zfTWhD0RvzZZdDtLFB.mid\n",
            "Loading Music File: /content/gdrive/MyDrive/Violin_Comp_Data/midi_150/3F4VJ43eeeWpRYOfjSyXj7.mid\n",
            "Loading Music File: /content/gdrive/MyDrive/Violin_Comp_Data/midi_150/4fPFq8Ke6oJ7p5WFMC50I4.mid\n",
            "Loading Music File: /content/gdrive/MyDrive/Violin_Comp_Data/midi_150/7i24pSXXBv3kv9WHddTcGj.mid\n",
            "Loading Music File: /content/gdrive/MyDrive/Violin_Comp_Data/midi_150/5URXJxy16PFSV4WazX0u8v.mid\n",
            "Loading Music File: /content/gdrive/MyDrive/Violin_Comp_Data/midi_150/6MB0J2Szbwn7ClnfpxJ79m.mid\n",
            "Loading Music File: /content/gdrive/MyDrive/Violin_Comp_Data/midi_150/6vzqohYLnbC4VQ6AEwPq4Q.mid\n",
            "Loading Music File: /content/gdrive/MyDrive/Violin_Comp_Data/midi_150/313Z6hsAGtLPE3u2KfKHdT.mid\n",
            "Loading Music File: /content/gdrive/MyDrive/Violin_Comp_Data/midi_150/44II6Lx1iBDKHl6H55LCIm.mid\n",
            "Loading Music File: /content/gdrive/MyDrive/Violin_Comp_Data/midi_150/7p5s5bZ8bBz9Xbm0qAx7Pt.mid\n",
            "Loading Music File: /content/gdrive/MyDrive/Violin_Comp_Data/midi_150/10U00ksU43TGnVQGX830ol.mid\n",
            "Loading Music File: /content/gdrive/MyDrive/Violin_Comp_Data/midi_150/7oqleigoaKLSmMHgdAdnO0.mid\n",
            "Loading Music File: /content/gdrive/MyDrive/Violin_Comp_Data/midi_150/51wIaxrzO3DLknvbj8Hq4v.mid\n",
            "Loading Music File: /content/gdrive/MyDrive/Violin_Comp_Data/midi_150/7rAnqjH8Yo3FnmcswwXPZ7.mid\n",
            "Loading Music File: /content/gdrive/MyDrive/Violin_Comp_Data/midi_150/2X3T9sqiIyXPtBba7mL90D.mid\n",
            "Loading Music File: /content/gdrive/MyDrive/Violin_Comp_Data/midi_150/65aKbcthqRTSBjLEEzepGi.mid\n",
            "Loading Music File: /content/gdrive/MyDrive/Violin_Comp_Data/midi_150/7pLO0CpoR2JTq5WHgmNyJT.mid\n",
            "Loading Music File: /content/gdrive/MyDrive/Violin_Comp_Data/midi_150/52mP1X1PbktIDPenXIdPpc.mid\n",
            "Loading Music File: /content/gdrive/MyDrive/Violin_Comp_Data/midi_150/593s2ejk9tcSFnAB67daEE.mid\n",
            "Loading Music File: /content/gdrive/MyDrive/Violin_Comp_Data/midi_150/6lHqN3YQRSrHzdvMT4VGJn.mid\n",
            "Loading Music File: /content/gdrive/MyDrive/Violin_Comp_Data/midi_150/2qh6tca9sZc0c9aeDW1Wb7.mid\n",
            "Loading Music File: /content/gdrive/MyDrive/Violin_Comp_Data/midi_150/4yBcYzjH3w9hWDbfMfLKTK.mid\n",
            "Loading Music File: /content/gdrive/MyDrive/Violin_Comp_Data/midi_150/7Ai5GAEfqSWYwsgwFGGFKM.mid\n",
            "Loading Music File: /content/gdrive/MyDrive/Violin_Comp_Data/midi_150/4hKCCZPk7dxaamCS1H7sOs.mid\n",
            "Loading Music File: /content/gdrive/MyDrive/Violin_Comp_Data/midi_150/3UXJcsd7TPquZPOrhnBGTd.mid\n",
            "Loading Music File: /content/gdrive/MyDrive/Violin_Comp_Data/midi_150/5qKItKC0wOcDzsFKwlkbzY.mid\n",
            "Loading Music File: /content/gdrive/MyDrive/Violin_Comp_Data/midi_150/7tL65PArtVgoqcFsjsj3on.mid\n",
            "Loading Music File: /content/gdrive/MyDrive/Violin_Comp_Data/midi_150/40Qw1sb8hczl1sFwKn0rBx.mid\n",
            "Loading Music File: /content/gdrive/MyDrive/Violin_Comp_Data/midi_150/7ciOFAGcqd5UcjO5bKRprj.mid\n",
            "Loading Music File: /content/gdrive/MyDrive/Violin_Comp_Data/midi_150/4cl4PYFAatye7SgdX1iRwt.mid\n",
            "Loading Music File: /content/gdrive/MyDrive/Violin_Comp_Data/midi_150/7wfD8yDXBgOhwPE8OFiTCz.mid\n",
            "Loading Music File: /content/gdrive/MyDrive/Violin_Comp_Data/midi_150/2skMRTMYIi2FYZgprAouKC.mid\n",
            "Loading Music File: /content/gdrive/MyDrive/Violin_Comp_Data/midi_150/2WYmUBo6jDjgz2CiR3p7t5.mid\n",
            "Loading Music File: /content/gdrive/MyDrive/Violin_Comp_Data/midi_150/6dIfKKEw3E9wg8ofP1ckI7.mid\n",
            "Loading Music File: /content/gdrive/MyDrive/Violin_Comp_Data/midi_150/7lHeyHqHcuKtWnIDFAwgLs.mid\n",
            "Loading Music File: /content/gdrive/MyDrive/Violin_Comp_Data/midi_150/3GN3myjk00WdCmDtwxoeCx.mid\n",
            "Loading Music File: /content/gdrive/MyDrive/Violin_Comp_Data/midi_150/26R6lToBu9bXGFP1i4tBYB.mid\n",
            "Loading Music File: /content/gdrive/MyDrive/Violin_Comp_Data/midi_150/16RMNJLv1ziKdmipN4klNL.mid\n",
            "Loading Music File: /content/gdrive/MyDrive/Violin_Comp_Data/midi_150/26gB6PlQPsRCDcMCXFf4z6.mid\n",
            "Loading Music File: /content/gdrive/MyDrive/Violin_Comp_Data/midi_150/13lKACxSKLOH0OBd7UDvPh.mid\n"
          ]
        }
      ],
      "source": [
        "import os\n",
        "import numpy as np\n",
        "from music21 import converter, instrument, note, chord\n",
        "\n",
        "def read_midi(file):\n",
        "    print(\"Loading Music File:\", file)\n",
        "    notes = []\n",
        "\n",
        "    midi = converter.parse(file)\n",
        "    parts = instrument.partitionByInstrument(midi)\n",
        "    relevant_parts = parts.parts if parts else [midi]\n",
        "\n",
        "    for part in relevant_parts:\n",
        "        if 'Violin' in str(part.getInstrument()) or 'Violin' in str(part.partName):\n",
        "            for element in part.recurse():\n",
        "                if isinstance(element, note.Note):\n",
        "                    notes.append((str(element.pitch), element.duration.quarterLength, element.offset))\n",
        "                elif isinstance(element, chord.Chord):\n",
        "                    notes.append(('.'.join(str(n) for n in element.normalOrder), element.duration.quarterLength, element.offset))\n",
        "                elif isinstance(element, note.Rest):\n",
        "                    notes.append(('rest', element.duration.quarterLength, element.offset))\n",
        "\n",
        "    return notes\n",
        "\n",
        "\n",
        "path = '/content/gdrive/MyDrive/Violin_Comp_Data/midi_150/'\n",
        "files = [i for i in os.listdir(path) if i.endswith(\".mid\")]\n",
        "notes_array = [read_midi(os.path.join(path, file)) for file in files]\n"
      ]
    },
    {
      "cell_type": "markdown",
      "source": [
        "Encoding each unique note to an integer."
      ],
      "metadata": {
        "id": "kFSRzbE2WuO_"
      }
    },
    {
      "cell_type": "code",
      "source": [
        "# Flatten notes_array to create a single list of all notes\n",
        "all_notes = [note for sequence in notes_array for note in sequence]"
      ],
      "metadata": {
        "id": "9Lh5q_CQN4p-"
      },
      "execution_count": 3,
      "outputs": []
    },
    {
      "cell_type": "code",
      "source": [
        "from fractions import Fraction\n",
        "\n",
        "all_notes = [(pitch, float(duration) if isinstance(duration, Fraction) else duration,\n",
        "              float(offset) if isinstance(offset, Fraction) else offset)\n",
        "             for pitch, duration, offset in all_notes]\n"
      ],
      "metadata": {
        "id": "c_i1YG2BOOmn"
      },
      "execution_count": 4,
      "outputs": []
    },
    {
      "cell_type": "code",
      "source": [
        "notes_array = [[(pitch, float(duration) if isinstance(duration, Fraction) else duration,\n",
        "                 float(offset) if isinstance(offset, Fraction) else offset)\n",
        "                for pitch, duration, offset in sequence]\n",
        "               for sequence in notes_array]\n"
      ],
      "metadata": {
        "id": "YLBsO1HBORKn"
      },
      "execution_count": 5,
      "outputs": []
    },
    {
      "cell_type": "code",
      "source": [
        "note_to_int = {note: i for i, note in enumerate(sorted(set(all_notes)))}\n"
      ],
      "metadata": {
        "id": "3n7HKWl1OT10"
      },
      "execution_count": 6,
      "outputs": []
    },
    {
      "cell_type": "code",
      "source": [
        "input_sequences = []\n",
        "output_notes = []\n",
        "no_of_timesteps = 100\n",
        "\n",
        "for notes in notes_array:\n",
        "    for i in range(len(notes) - no_of_timesteps):\n",
        "        input_seq = notes[i:i + no_of_timesteps]\n",
        "        output_note = notes[i + no_of_timesteps]\n",
        "        input_sequences.append([note_to_int[note] for note in input_seq])\n",
        "        output_notes.append(note_to_int[output_note])\n",
        "\n",
        "x_seq = np.array(input_sequences)\n",
        "y_seq = np.array(output_notes)\n"
      ],
      "metadata": {
        "id": "30rW9Qf7OWIv"
      },
      "execution_count": 7,
      "outputs": []
    },
    {
      "cell_type": "markdown",
      "source": [
        "Reshaping input for LSTM Model"
      ],
      "metadata": {
        "id": "-FNWACczUx9X"
      }
    },
    {
      "cell_type": "code",
      "source": [
        "from sklearn.model_selection import train_test_split\n",
        "\n",
        "x_tr, x_val, y_tr, y_val = train_test_split(x_seq, y_seq, test_size=0.2, random_state=13)\n",
        "x_tr = np.reshape(x_tr, (x_tr.shape[0], no_of_timesteps, 1))\n",
        "x_val = np.reshape(x_val, (x_val.shape[0], no_of_timesteps, 1))\n"
      ],
      "metadata": {
        "id": "rORuqgonXcTj"
      },
      "execution_count": 8,
      "outputs": []
    },
    {
      "cell_type": "markdown",
      "source": [
        "### Adjusting LSTM Model Complexity:\n",
        "To enhance the complexity of your LSTM model, let's incorporate additional LSTM layers, utilize Bidirectional LSTMs, add L2 regularization, and explore different optimizers and batch sizes."
      ],
      "metadata": {
        "id": "OohVKtacSrIN"
      }
    },
    {
      "cell_type": "code",
      "source": [
        "from keras.models import Sequential\n",
        "from keras.layers import LSTM, Dense, Dropout, Bidirectional\n",
        "from keras.regularizers import l2\n",
        "from keras.optimizers import Adam\n",
        "\n",
        "# Model Configuration\n",
        "no_of_timesteps = 100\n",
        "num_notes = len(note_to_int)\n",
        "\n",
        "model = Sequential()\n",
        "\n",
        "# First Bidirectional LSTM Layer\n",
        "model.add(Bidirectional(LSTM(256, return_sequences=True, kernel_regularizer=l2(0.001)), input_shape=(no_of_timesteps, 1)))\n",
        "\n",
        "# Second LSTM Layer\n",
        "model.add(LSTM(128, return_sequences=True, kernel_regularizer=l2(0.001)))\n",
        "\n",
        "# Third Bidirectional LSTM Layer\n",
        "model.add(Bidirectional(LSTM(64, kernel_regularizer=l2(0.001))))\n",
        "\n",
        "# Dense Layer with Regularization\n",
        "model.add(Dense(128, activation='relu', kernel_regularizer=l2(0.001)))\n",
        "model.add(Dropout(0.3))\n",
        "\n",
        "# Output Layer\n",
        "model.add(Dense(num_notes, activation='softmax'))\n",
        "\n",
        "# Optimizer Configuration\n",
        "optimizer = Adam(learning_rate=0.001)\n",
        "\n",
        "# Compile the model\n",
        "model.compile(loss='sparse_categorical_crossentropy', optimizer=optimizer, metrics=['accuracy'])\n",
        "\n",
        "# Model Summary\n",
        "model.summary()\n"
      ],
      "metadata": {
        "colab": {
          "base_uri": "https://localhost:8080/"
        },
        "id": "qa49DYYvmYQe",
        "outputId": "01968a30-c7dc-4277-8fc6-2001a0e24ff4"
      },
      "execution_count": 9,
      "outputs": [
        {
          "output_type": "stream",
          "name": "stdout",
          "text": [
            "Model: \"sequential\"\n",
            "_________________________________________________________________\n",
            " Layer (type)                Output Shape              Param #   \n",
            "=================================================================\n",
            " bidirectional (Bidirection  (None, 100, 512)          528384    \n",
            " al)                                                             \n",
            "                                                                 \n",
            " lstm_1 (LSTM)               (None, 100, 128)          328192    \n",
            "                                                                 \n",
            " bidirectional_1 (Bidirecti  (None, 128)               98816     \n",
            " onal)                                                           \n",
            "                                                                 \n",
            " dense (Dense)               (None, 128)               16512     \n",
            "                                                                 \n",
            " dropout (Dropout)           (None, 128)               0         \n",
            "                                                                 \n",
            " dense_1 (Dense)             (None, 4915)              634035    \n",
            "                                                                 \n",
            "=================================================================\n",
            "Total params: 1605939 (6.13 MB)\n",
            "Trainable params: 1605939 (6.13 MB)\n",
            "Non-trainable params: 0 (0.00 Byte)\n",
            "_________________________________________________________________\n"
          ]
        }
      ]
    },
    {
      "cell_type": "code",
      "source": [
        "from keras.callbacks import ModelCheckpoint\n",
        "\n",
        "mc = ModelCheckpoint('best_model_violin.h5', monitor='val_loss', mode='min', save_best_only=True, verbose=1)"
      ],
      "metadata": {
        "id": "sBjqEA7WmYOU"
      },
      "execution_count": 10,
      "outputs": []
    },
    {
      "cell_type": "code",
      "source": [
        "history = model.fit(x_tr, y_tr, epochs=10, batch_size=64, validation_data=(x_val, y_val), callbacks=[mc])"
      ],
      "metadata": {
        "colab": {
          "base_uri": "https://localhost:8080/"
        },
        "id": "wRl6w_DFmYMi",
        "outputId": "584d2071-d37d-4527-aa94-31ab68f172b6"
      },
      "execution_count": 11,
      "outputs": [
        {
          "output_type": "stream",
          "name": "stdout",
          "text": [
            "Epoch 1/10\n",
            "3/3 [==============================] - ETA: 0s - loss: 9.4701 - accuracy: 0.0000e+00\n",
            "Epoch 1: val_loss improved from inf to 9.43121, saving model to best_model_violin.h5\n",
            "3/3 [==============================] - 19s 2s/step - loss: 9.4701 - accuracy: 0.0000e+00 - val_loss: 9.4312 - val_accuracy: 0.0000e+00\n",
            "Epoch 2/10\n"
          ]
        },
        {
          "output_type": "stream",
          "name": "stderr",
          "text": [
            "/usr/local/lib/python3.10/dist-packages/keras/src/engine/training.py:3103: UserWarning: You are saving your model as an HDF5 file via `model.save()`. This file format is considered legacy. We recommend using instead the native Keras format, e.g. `model.save('my_model.keras')`.\n",
            "  saving_api.save_model(\n"
          ]
        },
        {
          "output_type": "stream",
          "name": "stdout",
          "text": [
            "3/3 [==============================] - ETA: 0s - loss: 9.3349 - accuracy: 0.0000e+00\n",
            "Epoch 2: val_loss improved from 9.43121 to 9.38160, saving model to best_model_violin.h5\n",
            "3/3 [==============================] - 5s 2s/step - loss: 9.3349 - accuracy: 0.0000e+00 - val_loss: 9.3816 - val_accuracy: 0.0000e+00\n",
            "Epoch 3/10\n",
            "3/3 [==============================] - ETA: 0s - loss: 9.1320 - accuracy: 0.0224\n",
            "Epoch 3: val_loss improved from 9.38160 to 9.34674, saving model to best_model_violin.h5\n",
            "3/3 [==============================] - 5s 2s/step - loss: 9.1320 - accuracy: 0.0224 - val_loss: 9.3467 - val_accuracy: 0.0000e+00\n",
            "Epoch 4/10\n",
            "3/3 [==============================] - ETA: 0s - loss: 8.8084 - accuracy: 0.0075\n",
            "Epoch 4: val_loss improved from 9.34674 to 9.33394, saving model to best_model_violin.h5\n",
            "3/3 [==============================] - 4s 1s/step - loss: 8.8084 - accuracy: 0.0075 - val_loss: 9.3339 - val_accuracy: 0.0000e+00\n",
            "Epoch 5/10\n",
            "3/3 [==============================] - ETA: 0s - loss: 8.3328 - accuracy: 0.0075\n",
            "Epoch 5: val_loss did not improve from 9.33394\n",
            "3/3 [==============================] - 4s 1s/step - loss: 8.3328 - accuracy: 0.0075 - val_loss: 9.3610 - val_accuracy: 0.0000e+00\n",
            "Epoch 6/10\n",
            "3/3 [==============================] - ETA: 0s - loss: 7.6616 - accuracy: 0.0075\n",
            "Epoch 6: val_loss did not improve from 9.33394\n",
            "3/3 [==============================] - 5s 2s/step - loss: 7.6616 - accuracy: 0.0075 - val_loss: 9.5078 - val_accuracy: 0.0000e+00\n",
            "Epoch 7/10\n",
            "3/3 [==============================] - ETA: 0s - loss: 6.7469 - accuracy: 0.0149\n",
            "Epoch 7: val_loss did not improve from 9.33394\n",
            "3/3 [==============================] - 5s 1s/step - loss: 6.7469 - accuracy: 0.0149 - val_loss: 10.0200 - val_accuracy: 0.0000e+00\n",
            "Epoch 8/10\n",
            "3/3 [==============================] - ETA: 0s - loss: 6.0895 - accuracy: 0.0075\n",
            "Epoch 8: val_loss did not improve from 9.33394\n",
            "3/3 [==============================] - 4s 1s/step - loss: 6.0895 - accuracy: 0.0075 - val_loss: 11.1348 - val_accuracy: 0.0000e+00\n",
            "Epoch 9/10\n",
            "3/3 [==============================] - ETA: 0s - loss: 5.6674 - accuracy: 0.0224\n",
            "Epoch 9: val_loss did not improve from 9.33394\n",
            "3/3 [==============================] - 4s 1s/step - loss: 5.6674 - accuracy: 0.0224 - val_loss: 12.4505 - val_accuracy: 0.0000e+00\n",
            "Epoch 10/10\n",
            "3/3 [==============================] - ETA: 0s - loss: 5.5410 - accuracy: 0.0000e+00\n",
            "Epoch 10: val_loss did not improve from 9.33394\n",
            "3/3 [==============================] - 6s 2s/step - loss: 5.5410 - accuracy: 0.0000e+00 - val_loss: 13.5584 - val_accuracy: 0.0000e+00\n"
          ]
        }
      ]
    },
    {
      "cell_type": "code",
      "source": [
        "from keras.models import load_model\n",
        "model = load_model('best_model_violin.h5')"
      ],
      "metadata": {
        "id": "ltnjLjqfmYIo"
      },
      "execution_count": 12,
      "outputs": []
    },
    {
      "cell_type": "markdown",
      "source": [
        "### Implementing Temperature Sampling\n",
        "Temperature sampling allows you to control the randomness of predictions. A higher temperature results in more random outputs, and a lower temperature makes the model's outputs more deterministic."
      ],
      "metadata": {
        "id": "h58WC1Uw8gj4"
      }
    },
    {
      "cell_type": "code",
      "source": [
        "def sample_with_temperature(probabilities, temperature=1.0):\n",
        "    if temperature <= 0:\n",
        "        return np.argmax(probabilities)\n",
        "    else:\n",
        "        probabilities = np.asarray(probabilities).astype('float64')\n",
        "        probabilities = np.log(probabilities + 1e-7) / temperature\n",
        "        exp_probs = np.exp(probabilities)\n",
        "        probabilities = exp_probs / np.sum(exp_probs)\n",
        "        return np.random.choice(range(len(probabilities)), p=probabilities)\n"
      ],
      "metadata": {
        "id": "9zS5Kuz68YdB"
      },
      "execution_count": 13,
      "outputs": []
    },
    {
      "cell_type": "code",
      "source": [
        "def generate_music(model, start_sequence, length=50, temperature=.96, lookback_length=100):\n",
        "    prediction_output = []\n",
        "\n",
        "    # Ensuring start_sequence is of length lookback_length\n",
        "    if len(start_sequence) > lookback_length:\n",
        "        start_sequence = start_sequence[-lookback_length:]\n",
        "    elif len(start_sequence) < lookback_length:\n",
        "        # Pad the sequence if it's too short\n",
        "        start_sequence = [('rest', 0, 0)] * (lookback_length - len(start_sequence)) + start_sequence\n",
        "\n",
        "    start_sequence_formatted = np.array([note_to_int[note] for note in start_sequence])\n",
        "\n",
        "    for note_index in range(length):\n",
        "        prediction_input = np.reshape(start_sequence_formatted, (1, lookback_length, 1))\n",
        "        prob = model.predict(prediction_input)[0]\n",
        "        index = sample_with_temperature(prob, temperature)\n",
        "        predicted_note = x_int_to_note[index]\n",
        "        prediction_output.append(predicted_note)\n",
        "\n",
        "        # Update start_sequence_formatted for the next prediction\n",
        "        start_sequence_formatted = np.append(start_sequence_formatted, [index])[-lookback_length:]\n",
        "\n",
        "    return prediction_output\n",
        "\n",
        "\n",
        "# Create the inverse mapping from integers back to note tuples\n",
        "x_int_to_note = dict((number, note) for note, number in note_to_int.items())\n"
      ],
      "metadata": {
        "id": "wF87tLOZmYGg"
      },
      "execution_count": 14,
      "outputs": []
    },
    {
      "cell_type": "markdown",
      "source": [
        "The convert_to_midi function assumes that each note_info in prediction_output is a tuple with the structure (note, duration, offset), where:\n",
        "\n",
        "- **note** can be either a note name (like 'C#4') or 'rest'.\n",
        "- **duration** is the note's duration in quarterLength.\n",
        "- **offset** is the note's offset."
      ],
      "metadata": {
        "id": "ltfz0QJu9yuh"
      }
    },
    {
      "cell_type": "code",
      "source": [
        "from music21 import pitch\n",
        "\n",
        "def midi_number_to_note_name(midi_number):\n",
        "    return pitch.Pitch(midi=midi_number).nameWithOctave\n"
      ],
      "metadata": {
        "id": "MqB3wXP-QQ5z"
      },
      "execution_count": 15,
      "outputs": []
    },
    {
      "cell_type": "code",
      "source": [
        "from music21 import stream, instrument, note, chord\n",
        "\n",
        "def convert_to_midi(prediction_output):\n",
        "    midi_stream = stream.Stream()\n",
        "    midi_stream.append(instrument.Violin())\n",
        "\n",
        "    offset = 0\n",
        "    for i, note_info in enumerate(prediction_output):\n",
        "        try:\n",
        "            note_name = note_info[0]\n",
        "            # Check if note_name is a MIDI number and convert it\n",
        "            if note_name.isdigit():\n",
        "                note_name = midi_number_to_note_name(int(note_name))\n",
        "\n",
        "            # Create note or rest\n",
        "            if note_name != 'rest':\n",
        "                new_note = note.Note(note_name)\n",
        "            else:\n",
        "                new_note = note.Rest()\n",
        "\n",
        "            new_note.duration.quarterLength = note_info[1]\n",
        "            new_note.offset = offset\n",
        "            new_note.storedInstrument = instrument.Violin()\n",
        "            midi_stream.append(new_note)\n",
        "            offset += new_note.duration.quarterLength\n",
        "\n",
        "        except Exception as e:\n",
        "            print(f\"Error processing note at position {i}: {note_info}. Error: {e}\")\n",
        "\n",
        "    midi_stream.write('midi', fp='generated_music.mid')\n",
        "\n",
        "# Randomly select a starting sequence from x_val\n",
        "random_index = np.random.randint(0, len(x_val))\n",
        "start_sequence = x_val[random_index]\n",
        "\n",
        "# Since start_sequence is currently encoded as integers, decode it back to note information\n",
        "start_sequence_decoded = [x_int_to_note[note] for note in start_sequence.flatten()]\n",
        "\n",
        "# Generate music based on the starting sequence\n",
        "prediction_output = generate_music(model, start_sequence_decoded)\n",
        "convert_to_midi(prediction_output)"
      ],
      "metadata": {
        "colab": {
          "base_uri": "https://localhost:8080/"
        },
        "id": "yUEJ-01RQW0M",
        "outputId": "04a0d4db-20e1-4bcb-df6c-92446460d3fe"
      },
      "execution_count": 16,
      "outputs": [
        {
          "output_type": "stream",
          "name": "stdout",
          "text": [
            "1/1 [==============================] - 3s 3s/step\n",
            "1/1 [==============================] - 0s 141ms/step\n",
            "1/1 [==============================] - 0s 161ms/step\n",
            "1/1 [==============================] - 0s 127ms/step\n",
            "1/1 [==============================] - 0s 160ms/step\n",
            "1/1 [==============================] - 0s 169ms/step\n",
            "1/1 [==============================] - 0s 154ms/step\n",
            "1/1 [==============================] - 0s 148ms/step\n",
            "1/1 [==============================] - 0s 181ms/step\n",
            "1/1 [==============================] - 0s 147ms/step\n",
            "1/1 [==============================] - 0s 159ms/step\n",
            "1/1 [==============================] - 0s 181ms/step\n",
            "1/1 [==============================] - 0s 150ms/step\n",
            "1/1 [==============================] - 0s 159ms/step\n",
            "1/1 [==============================] - 0s 127ms/step\n",
            "1/1 [==============================] - 0s 93ms/step\n",
            "1/1 [==============================] - 0s 87ms/step\n",
            "1/1 [==============================] - 0s 84ms/step\n",
            "1/1 [==============================] - 0s 87ms/step\n",
            "1/1 [==============================] - 0s 85ms/step\n",
            "1/1 [==============================] - 0s 94ms/step\n",
            "1/1 [==============================] - 0s 85ms/step\n",
            "1/1 [==============================] - 0s 110ms/step\n",
            "1/1 [==============================] - 0s 87ms/step\n",
            "1/1 [==============================] - 0s 83ms/step\n",
            "1/1 [==============================] - 0s 92ms/step\n",
            "1/1 [==============================] - 0s 94ms/step\n",
            "1/1 [==============================] - 0s 85ms/step\n",
            "1/1 [==============================] - 0s 114ms/step\n",
            "1/1 [==============================] - 0s 82ms/step\n",
            "1/1 [==============================] - 0s 87ms/step\n",
            "1/1 [==============================] - 0s 92ms/step\n",
            "1/1 [==============================] - 0s 82ms/step\n",
            "1/1 [==============================] - 0s 89ms/step\n",
            "1/1 [==============================] - 0s 111ms/step\n",
            "1/1 [==============================] - 0s 93ms/step\n",
            "1/1 [==============================] - 0s 93ms/step\n",
            "1/1 [==============================] - 0s 101ms/step\n",
            "1/1 [==============================] - 0s 81ms/step\n",
            "1/1 [==============================] - 0s 83ms/step\n",
            "1/1 [==============================] - 0s 100ms/step\n",
            "1/1 [==============================] - 0s 90ms/step\n",
            "1/1 [==============================] - 0s 87ms/step\n",
            "1/1 [==============================] - 0s 92ms/step\n",
            "1/1 [==============================] - 0s 85ms/step\n",
            "1/1 [==============================] - 0s 90ms/step\n",
            "1/1 [==============================] - 0s 102ms/step\n",
            "1/1 [==============================] - 0s 87ms/step\n",
            "1/1 [==============================] - 0s 93ms/step\n",
            "1/1 [==============================] - 0s 77ms/step\n"
          ]
        }
      ]
    },
    {
      "cell_type": "code",
      "source": [],
      "metadata": {
        "id": "Ft02X1S3nfLi"
      },
      "execution_count": null,
      "outputs": []
    }
  ]
}