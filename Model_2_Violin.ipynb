{
  "nbformat": 4,
  "nbformat_minor": 0,
  "metadata": {
    "colab": {
      "provenance": []
    },
    "kernelspec": {
      "name": "python3",
      "display_name": "Python 3"
    },
    "language_info": {
      "name": "python"
    }
  },
  "cells": [
    {
      "cell_type": "code",
      "source": [
        "from google.colab import drive\n",
        "drive.mount('/content/gdrive')"
      ],
      "metadata": {
        "colab": {
          "base_uri": "https://localhost:8080/"
        },
        "id": "_-tkIHednLFu",
        "outputId": "4a4810b8-8787-4678-914a-afe54ea528dd"
      },
      "execution_count": null,
      "outputs": [
        {
          "output_type": "stream",
          "name": "stdout",
          "text": [
            "Mounted at /content/gdrive\n"
          ]
        }
      ]
    },
    {
      "cell_type": "markdown",
      "source": [
        "### Data Preparation\n",
        "Adjusting note representation to include note duration and time offsets."
      ],
      "metadata": {
        "id": "s7OiSdrmRt4D"
      }
    },
    {
      "cell_type": "code",
      "execution_count": null,
      "metadata": {
        "colab": {
          "base_uri": "https://localhost:8080/"
        },
        "id": "2-ATcHWKkMve",
        "outputId": "0b713e09-184e-4e1e-f4b5-81adf7e9d33f"
      },
      "outputs": [
        {
          "output_type": "stream",
          "name": "stdout",
          "text": [
            "Loading Music File: /content/gdrive/MyDrive/Violin_Comp_Data/midi_50/033xqXE1Hfd9pDhXWY9Wea.mid\n",
            "Loading Music File: /content/gdrive/MyDrive/Violin_Comp_Data/midi_50/1JmbcLSDwAvJIhkO5TCf0C.mid\n",
            "Loading Music File: /content/gdrive/MyDrive/Violin_Comp_Data/midi_50/1muVW0T3Q8Rr7QPeHh79pQ.mid\n",
            "Loading Music File: /content/gdrive/MyDrive/Violin_Comp_Data/midi_50/27pz9xa74coqoChhxpMoDp.mid\n",
            "Loading Music File: /content/gdrive/MyDrive/Violin_Comp_Data/midi_50/1pxlXIgPnAUyV6g4UzfuCd.mid\n",
            "Loading Music File: /content/gdrive/MyDrive/Violin_Comp_Data/midi_50/2oXF9rUca0vDnFeL8T18uz.mid\n",
            "Loading Music File: /content/gdrive/MyDrive/Violin_Comp_Data/midi_50/0YYMtQfLuCW7CGy8V3HP3g.mid\n",
            "Loading Music File: /content/gdrive/MyDrive/Violin_Comp_Data/midi_50/4GyyVVKOWdmXNemCZBL4hR.mid\n",
            "Loading Music File: /content/gdrive/MyDrive/Violin_Comp_Data/midi_50/7eQAWYzjvbiUSCozGxnVxr.mid\n",
            "Loading Music File: /content/gdrive/MyDrive/Violin_Comp_Data/midi_50/1bGVILNA1XjJ5Hs0z16c6J.mid\n",
            "Loading Music File: /content/gdrive/MyDrive/Violin_Comp_Data/midi_50/6udjW2FpMvHUaQvgnJ7tOX.mid\n",
            "Loading Music File: /content/gdrive/MyDrive/Violin_Comp_Data/midi_50/3Xgq65C13PdBvgz8vX89yg.mid\n",
            "Loading Music File: /content/gdrive/MyDrive/Violin_Comp_Data/midi_50/693QuyzoJFW4lUWLcziTmF.mid\n",
            "Loading Music File: /content/gdrive/MyDrive/Violin_Comp_Data/midi_50/4yt4nOngwk0SisRMeqPGvY.mid\n",
            "Loading Music File: /content/gdrive/MyDrive/Violin_Comp_Data/midi_50/2xeMCvnC3MqlNT8a9ZEzy2.mid\n",
            "Loading Music File: /content/gdrive/MyDrive/Violin_Comp_Data/midi_50/23UimTh5RgCQH04vh65ZbS.mid\n",
            "Loading Music File: /content/gdrive/MyDrive/Violin_Comp_Data/midi_50/2HIYjy3rVeiY9WI0skTpXk.mid\n",
            "Loading Music File: /content/gdrive/MyDrive/Violin_Comp_Data/midi_50/2stASiOwfG95fSRXqPpld4.mid\n",
            "Loading Music File: /content/gdrive/MyDrive/Violin_Comp_Data/midi_50/2zwSbnMU6UPx9WxdBNN2DP.mid\n",
            "Loading Music File: /content/gdrive/MyDrive/Violin_Comp_Data/midi_50/4b9mt1jlo2PVzLu2SxeVDA.mid\n",
            "Loading Music File: /content/gdrive/MyDrive/Violin_Comp_Data/midi_50/5oXz9yVejOuDly4cW396d1.mid\n",
            "Loading Music File: /content/gdrive/MyDrive/Violin_Comp_Data/midi_50/0cVrXRirMUQL9eNYFZUtOs.mid\n",
            "Loading Music File: /content/gdrive/MyDrive/Violin_Comp_Data/midi_50/0cpB4fTzP0RhG6m6IEMjUh.mid\n",
            "Loading Music File: /content/gdrive/MyDrive/Violin_Comp_Data/midi_50/5iLraNOAUr8aFw8OwITqHz.mid\n",
            "Loading Music File: /content/gdrive/MyDrive/Violin_Comp_Data/midi_50/3BxharMt4xi43dV8GXVeuX.mid\n",
            "Loading Music File: /content/gdrive/MyDrive/Violin_Comp_Data/midi_50/6QHfZtZg3Grt8vgElnH3zh.mid\n",
            "Loading Music File: /content/gdrive/MyDrive/Violin_Comp_Data/midi_50/3aPS09tbhcgoW2gNuoISym.mid\n",
            "Loading Music File: /content/gdrive/MyDrive/Violin_Comp_Data/midi_50/1CA6wGSEBS6uWlfFVoKUFk.mid\n",
            "Loading Music File: /content/gdrive/MyDrive/Violin_Comp_Data/midi_50/3goJ7z3aanXrFmsZZgn4Ev.mid\n",
            "Loading Music File: /content/gdrive/MyDrive/Violin_Comp_Data/midi_50/5rX8J2Hi7z8CduVo9mU9HH.mid\n",
            "Loading Music File: /content/gdrive/MyDrive/Violin_Comp_Data/midi_50/2hWRBixwj7CYVjKkxgFpge.mid\n",
            "Loading Music File: /content/gdrive/MyDrive/Violin_Comp_Data/midi_50/5A7izxKl6mNNx6dWgH5rQe.mid\n",
            "Loading Music File: /content/gdrive/MyDrive/Violin_Comp_Data/midi_50/5ykSaNgZghKR6WOr4UIjei.mid\n",
            "Loading Music File: /content/gdrive/MyDrive/Violin_Comp_Data/midi_50/1oPgLhiXzAQ2FL4NDyy6T5.mid\n",
            "Loading Music File: /content/gdrive/MyDrive/Violin_Comp_Data/midi_50/4c4v5NEYuofWnBx4Pbf2kl.mid\n",
            "Loading Music File: /content/gdrive/MyDrive/Violin_Comp_Data/midi_50/7r5iAbxruCUPwAFaIuQzHc.mid\n",
            "Loading Music File: /content/gdrive/MyDrive/Violin_Comp_Data/midi_50/32z9r39Ikfu8IY1w1XYXO2.mid\n",
            "Loading Music File: /content/gdrive/MyDrive/Violin_Comp_Data/midi_50/36KTjwL6CA94PTxkFVijdI.mid\n",
            "Loading Music File: /content/gdrive/MyDrive/Violin_Comp_Data/midi_50/0cmtKFuTzS4BL7LhnOF5OX.mid\n",
            "Loading Music File: /content/gdrive/MyDrive/Violin_Comp_Data/midi_50/5dyQIwdcTzK8Ah6u6XuzBj.mid\n",
            "Loading Music File: /content/gdrive/MyDrive/Violin_Comp_Data/midi_50/53JEf5hWwzRObhpuVgkHzY.mid\n",
            "Loading Music File: /content/gdrive/MyDrive/Violin_Comp_Data/midi_50/0fCsKcJIZm6fnlCgxqMpvz.mid\n",
            "Loading Music File: /content/gdrive/MyDrive/Violin_Comp_Data/midi_50/6TN1XFO9hEV8yyecSv70mN.mid\n",
            "Loading Music File: /content/gdrive/MyDrive/Violin_Comp_Data/midi_50/7za6EnrQNgLxVvMUZxB6N6.mid\n",
            "Loading Music File: /content/gdrive/MyDrive/Violin_Comp_Data/midi_50/6dKMHo2rpxKBCUeVIk4h27.mid\n",
            "Loading Music File: /content/gdrive/MyDrive/Violin_Comp_Data/midi_50/3N2kCEdCMmwFRFGRnGPfZr.mid\n",
            "Loading Music File: /content/gdrive/MyDrive/Violin_Comp_Data/midi_50/7MRtsigvGPEKxsCR4VYttX.mid\n",
            "Loading Music File: /content/gdrive/MyDrive/Violin_Comp_Data/midi_50/7MkE8rq7NHfr3qIiZP3omZ.mid\n",
            "Loading Music File: /content/gdrive/MyDrive/Violin_Comp_Data/midi_50/2EM9eE0Qwxw5vXIZsl9QCt.mid\n",
            "Loading Music File: /content/gdrive/MyDrive/Violin_Comp_Data/midi_50/1xnDdK24TUDbOj4qQoBzek.mid\n"
          ]
        }
      ],
      "source": [
        "import os\n",
        "import numpy as np\n",
        "from music21 import converter, instrument, note, chord\n",
        "\n",
        "def read_midi(file):\n",
        "    print(\"Loading Music File:\", file)\n",
        "    notes = []\n",
        "\n",
        "    midi = converter.parse(file)\n",
        "    parts = instrument.partitionByInstrument(midi)\n",
        "    relevant_parts = parts.parts if parts else [midi]\n",
        "\n",
        "    for part in relevant_parts:\n",
        "        if 'Violin' in str(part.getInstrument()) or 'Violin' in str(part.partName):\n",
        "            for element in part.recurse():\n",
        "                if isinstance(element, note.Note):\n",
        "                    notes.append((str(element.pitch), element.duration.quarterLength, element.offset))\n",
        "                elif isinstance(element, chord.Chord):\n",
        "                    notes.append(('.'.join(str(n) for n in element.normalOrder), element.duration.quarterLength, element.offset))\n",
        "                elif isinstance(element, note.Rest):\n",
        "                    notes.append(('rest', element.duration.quarterLength, element.offset))\n",
        "\n",
        "    return notes\n",
        "\n",
        "\n",
        "path = '/content/gdrive/MyDrive/Violin_Comp_Data/midi_50/'\n",
        "files = [i for i in os.listdir(path) if i.endswith(\".mid\")]\n",
        "notes_array = [read_midi(os.path.join(path, file)) for file in files]\n"
      ]
    },
    {
      "cell_type": "markdown",
      "source": [
        "Encoding each unique note to an integer."
      ],
      "metadata": {
        "id": "kFSRzbE2WuO_"
      }
    },
    {
      "cell_type": "code",
      "source": [
        "# Flatten notes_array to create a single list of all notes\n",
        "all_notes = [note for sequence in notes_array for note in sequence]\n",
        "\n",
        "# Create a mapping from notes to integers\n",
        "note_to_int = {note: i for i, note in enumerate(sorted(set(all_notes)))}\n",
        "\n",
        "# Encode sequences\n",
        "input_sequences = []\n",
        "output_notes = []\n",
        "no_of_timesteps = 32\n",
        "\n",
        "for notes in notes_array:\n",
        "    for i in range(len(notes) - no_of_timesteps):\n",
        "        input_seq = notes[i:i + no_of_timesteps]\n",
        "        output_note = notes[i + no_of_timesteps]\n",
        "        input_sequences.append([note_to_int[note] for note in input_seq])\n",
        "        output_notes.append(note_to_int[output_note])\n",
        "\n",
        "x_seq = np.array(input_sequences)\n",
        "y_seq = np.array(output_notes)\n"
      ],
      "metadata": {
        "id": "z3yOeDPRbIxy"
      },
      "execution_count": null,
      "outputs": []
    },
    {
      "cell_type": "markdown",
      "source": [
        "Reshaping input for LSTM Model"
      ],
      "metadata": {
        "id": "-FNWACczUx9X"
      }
    },
    {
      "cell_type": "code",
      "source": [
        "from sklearn.model_selection import train_test_split\n",
        "\n",
        "x_tr, x_val, y_tr, y_val = train_test_split(x_seq, y_seq, test_size=0.2, random_state=13)\n",
        "x_tr = np.reshape(x_tr, (x_tr.shape[0], no_of_timesteps, 1))\n",
        "x_val = np.reshape(x_val, (x_val.shape[0], no_of_timesteps, 1))\n"
      ],
      "metadata": {
        "id": "rORuqgonXcTj"
      },
      "execution_count": null,
      "outputs": []
    },
    {
      "cell_type": "markdown",
      "source": [
        "### LSTM Model Architecture:\n",
        "Replacing WaveNet model with an LSTM-based architecture for better sequence generation."
      ],
      "metadata": {
        "id": "OohVKtacSrIN"
      }
    },
    {
      "cell_type": "code",
      "source": [
        "from keras.models import Sequential\n",
        "from keras.layers import LSTM, Dense, Dropout\n",
        "\n",
        "model = Sequential()\n",
        "model.add(LSTM(256, input_shape=(no_of_timesteps, 1), return_sequences=True))\n",
        "model.add(LSTM(256))\n",
        "model.add(Dense(256, activation='relu'))\n",
        "model.add(Dropout(0.3))\n",
        "model.add(Dense(len(note_to_int), activation='softmax'))\n",
        "\n",
        "model.compile(loss='sparse_categorical_crossentropy', optimizer='adam')\n",
        "\n",
        "model.summary()"
      ],
      "metadata": {
        "colab": {
          "base_uri": "https://localhost:8080/"
        },
        "id": "qa49DYYvmYQe",
        "outputId": "2fe21964-3a4c-48d2-9c34-a48336a8f951"
      },
      "execution_count": null,
      "outputs": [
        {
          "output_type": "stream",
          "name": "stdout",
          "text": [
            "Model: \"sequential\"\n",
            "_________________________________________________________________\n",
            " Layer (type)                Output Shape              Param #   \n",
            "=================================================================\n",
            " lstm (LSTM)                 (None, 32, 256)           264192    \n",
            "                                                                 \n",
            " lstm_1 (LSTM)               (None, 256)               525312    \n",
            "                                                                 \n",
            " dense (Dense)               (None, 256)               65792     \n",
            "                                                                 \n",
            " dropout (Dropout)           (None, 256)               0         \n",
            "                                                                 \n",
            " dense_1 (Dense)             (None, 1990)              511430    \n",
            "                                                                 \n",
            "=================================================================\n",
            "Total params: 1366726 (5.21 MB)\n",
            "Trainable params: 1366726 (5.21 MB)\n",
            "Non-trainable params: 0 (0.00 Byte)\n",
            "_________________________________________________________________\n"
          ]
        }
      ]
    },
    {
      "cell_type": "code",
      "source": [
        "from keras.callbacks import ModelCheckpoint\n",
        "\n",
        "mc = ModelCheckpoint('best_model_violin.h5', monitor='val_loss', mode='min', save_best_only=True, verbose=1)"
      ],
      "metadata": {
        "id": "sBjqEA7WmYOU"
      },
      "execution_count": null,
      "outputs": []
    },
    {
      "cell_type": "code",
      "source": [
        "history = model.fit(x_tr, y_tr, epochs=50, batch_size=128, validation_data=(x_val, y_val), callbacks=[mc])"
      ],
      "metadata": {
        "colab": {
          "base_uri": "https://localhost:8080/"
        },
        "id": "wRl6w_DFmYMi",
        "outputId": "42d3994e-dd7e-4c4d-84bd-758d1b8826d8"
      },
      "execution_count": null,
      "outputs": [
        {
          "output_type": "stream",
          "name": "stdout",
          "text": [
            "Epoch 1/50\n",
            "6/6 [==============================] - ETA: 0s - loss: 7.6133\n",
            "Epoch 1: val_loss improved from inf to 7.62080, saving model to best_model_violin.h5\n",
            "6/6 [==============================] - 11s 745ms/step - loss: 7.6133 - val_loss: 7.6208\n",
            "Epoch 2/50\n"
          ]
        },
        {
          "output_type": "stream",
          "name": "stderr",
          "text": [
            "/usr/local/lib/python3.10/dist-packages/keras/src/engine/training.py:3103: UserWarning: You are saving your model as an HDF5 file via `model.save()`. This file format is considered legacy. We recommend using instead the native Keras format, e.g. `model.save('my_model.keras')`.\n",
            "  saving_api.save_model(\n"
          ]
        },
        {
          "output_type": "stream",
          "name": "stdout",
          "text": [
            "6/6 [==============================] - ETA: 0s - loss: 7.4752\n",
            "Epoch 2: val_loss did not improve from 7.62080\n",
            "6/6 [==============================] - 3s 551ms/step - loss: 7.4752 - val_loss: 7.7821\n",
            "Epoch 3/50\n",
            "6/6 [==============================] - ETA: 0s - loss: 7.1249\n",
            "Epoch 3: val_loss did not improve from 7.62080\n",
            "6/6 [==============================] - 5s 895ms/step - loss: 7.1249 - val_loss: 8.6587\n",
            "Epoch 4/50\n",
            "6/6 [==============================] - ETA: 0s - loss: 6.8139\n",
            "Epoch 4: val_loss did not improve from 7.62080\n",
            "6/6 [==============================] - 4s 566ms/step - loss: 6.8139 - val_loss: 9.9507\n",
            "Epoch 5/50\n",
            "6/6 [==============================] - ETA: 0s - loss: 6.7091\n",
            "Epoch 5: val_loss did not improve from 7.62080\n",
            "6/6 [==============================] - 3s 543ms/step - loss: 6.7091 - val_loss: 10.0963\n",
            "Epoch 6/50\n",
            "6/6 [==============================] - ETA: 0s - loss: 6.5972\n",
            "Epoch 6: val_loss did not improve from 7.62080\n",
            "6/6 [==============================] - 3s 545ms/step - loss: 6.5972 - val_loss: 9.9885\n",
            "Epoch 7/50\n",
            "6/6 [==============================] - ETA: 0s - loss: 6.5108\n",
            "Epoch 7: val_loss did not improve from 7.62080\n",
            "6/6 [==============================] - 7s 1s/step - loss: 6.5108 - val_loss: 10.2064\n",
            "Epoch 8/50\n",
            "6/6 [==============================] - ETA: 0s - loss: 6.4558\n",
            "Epoch 8: val_loss did not improve from 7.62080\n",
            "6/6 [==============================] - 6s 983ms/step - loss: 6.4558 - val_loss: 10.6079\n",
            "Epoch 9/50\n",
            "6/6 [==============================] - ETA: 0s - loss: 6.4225\n",
            "Epoch 9: val_loss did not improve from 7.62080\n",
            "6/6 [==============================] - 4s 627ms/step - loss: 6.4225 - val_loss: 10.8096\n",
            "Epoch 10/50\n",
            "6/6 [==============================] - ETA: 0s - loss: 6.3054\n",
            "Epoch 10: val_loss did not improve from 7.62080\n",
            "6/6 [==============================] - 5s 940ms/step - loss: 6.3054 - val_loss: 11.0752\n",
            "Epoch 11/50\n",
            "6/6 [==============================] - ETA: 0s - loss: 6.1897\n",
            "Epoch 11: val_loss did not improve from 7.62080\n",
            "6/6 [==============================] - 4s 570ms/step - loss: 6.1897 - val_loss: 11.2902\n",
            "Epoch 12/50\n",
            "6/6 [==============================] - ETA: 0s - loss: 6.0936\n",
            "Epoch 12: val_loss did not improve from 7.62080\n",
            "6/6 [==============================] - 3s 552ms/step - loss: 6.0936 - val_loss: 11.4187\n",
            "Epoch 13/50\n",
            "6/6 [==============================] - ETA: 0s - loss: 5.9898\n",
            "Epoch 13: val_loss did not improve from 7.62080\n",
            "6/6 [==============================] - 3s 550ms/step - loss: 5.9898 - val_loss: 11.6724\n",
            "Epoch 14/50\n",
            "6/6 [==============================] - ETA: 0s - loss: 5.9046\n",
            "Epoch 14: val_loss did not improve from 7.62080\n",
            "6/6 [==============================] - 5s 904ms/step - loss: 5.9046 - val_loss: 11.8411\n",
            "Epoch 15/50\n",
            "6/6 [==============================] - ETA: 0s - loss: 5.7890\n",
            "Epoch 15: val_loss did not improve from 7.62080\n",
            "6/6 [==============================] - 4s 613ms/step - loss: 5.7890 - val_loss: 12.1521\n",
            "Epoch 16/50\n",
            "6/6 [==============================] - ETA: 0s - loss: 5.6667\n",
            "Epoch 16: val_loss did not improve from 7.62080\n",
            "6/6 [==============================] - 3s 550ms/step - loss: 5.6667 - val_loss: 12.5059\n",
            "Epoch 17/50\n",
            "6/6 [==============================] - ETA: 0s - loss: 5.5732\n",
            "Epoch 17: val_loss did not improve from 7.62080\n",
            "6/6 [==============================] - 3s 547ms/step - loss: 5.5732 - val_loss: 12.7813\n",
            "Epoch 18/50\n",
            "6/6 [==============================] - ETA: 0s - loss: 5.4663\n",
            "Epoch 18: val_loss did not improve from 7.62080\n",
            "6/6 [==============================] - 4s 791ms/step - loss: 5.4663 - val_loss: 13.0795\n",
            "Epoch 19/50\n",
            "6/6 [==============================] - ETA: 0s - loss: 5.3668\n",
            "Epoch 19: val_loss did not improve from 7.62080\n",
            "6/6 [==============================] - 4s 701ms/step - loss: 5.3668 - val_loss: 13.0889\n",
            "Epoch 20/50\n",
            "6/6 [==============================] - ETA: 0s - loss: 5.2266\n",
            "Epoch 20: val_loss did not improve from 7.62080\n",
            "6/6 [==============================] - 3s 554ms/step - loss: 5.2266 - val_loss: 13.3306\n",
            "Epoch 21/50\n",
            "6/6 [==============================] - ETA: 0s - loss: 5.0951\n",
            "Epoch 21: val_loss did not improve from 7.62080\n",
            "6/6 [==============================] - 3s 550ms/step - loss: 5.0951 - val_loss: 13.4854\n",
            "Epoch 22/50\n",
            "6/6 [==============================] - ETA: 0s - loss: 4.9420\n",
            "Epoch 22: val_loss did not improve from 7.62080\n",
            "6/6 [==============================] - 4s 716ms/step - loss: 4.9420 - val_loss: 13.6892\n",
            "Epoch 23/50\n",
            "6/6 [==============================] - ETA: 0s - loss: 4.8325\n",
            "Epoch 23: val_loss did not improve from 7.62080\n",
            "6/6 [==============================] - 5s 790ms/step - loss: 4.8325 - val_loss: 13.9057\n",
            "Epoch 24/50\n",
            "6/6 [==============================] - ETA: 0s - loss: 4.7195\n",
            "Epoch 24: val_loss did not improve from 7.62080\n",
            "6/6 [==============================] - 3s 557ms/step - loss: 4.7195 - val_loss: 14.2213\n",
            "Epoch 25/50\n",
            "6/6 [==============================] - ETA: 0s - loss: 4.6271\n",
            "Epoch 25: val_loss did not improve from 7.62080\n",
            "6/6 [==============================] - 3s 568ms/step - loss: 4.6271 - val_loss: 14.2092\n",
            "Epoch 26/50\n",
            "6/6 [==============================] - ETA: 0s - loss: 4.5100\n",
            "Epoch 26: val_loss did not improve from 7.62080\n",
            "6/6 [==============================] - 5s 725ms/step - loss: 4.5100 - val_loss: 14.5358\n",
            "Epoch 27/50\n",
            "6/6 [==============================] - ETA: 0s - loss: 4.3733\n",
            "Epoch 27: val_loss did not improve from 7.62080\n",
            "6/6 [==============================] - 5s 796ms/step - loss: 4.3733 - val_loss: 14.3515\n",
            "Epoch 28/50\n",
            "6/6 [==============================] - ETA: 0s - loss: 4.2804\n",
            "Epoch 28: val_loss did not improve from 7.62080\n",
            "6/6 [==============================] - 3s 553ms/step - loss: 4.2804 - val_loss: 14.6209\n",
            "Epoch 29/50\n",
            "6/6 [==============================] - ETA: 0s - loss: 4.1783\n",
            "Epoch 29: val_loss did not improve from 7.62080\n",
            "6/6 [==============================] - 3s 566ms/step - loss: 4.1783 - val_loss: 14.8704\n",
            "Epoch 30/50\n",
            "6/6 [==============================] - ETA: 0s - loss: 4.0821\n",
            "Epoch 30: val_loss did not improve from 7.62080\n",
            "6/6 [==============================] - 4s 693ms/step - loss: 4.0821 - val_loss: 15.3432\n",
            "Epoch 31/50\n",
            "6/6 [==============================] - ETA: 0s - loss: 4.0097\n",
            "Epoch 31: val_loss did not improve from 7.62080\n",
            "6/6 [==============================] - 5s 828ms/step - loss: 4.0097 - val_loss: 15.3234\n",
            "Epoch 32/50\n",
            "6/6 [==============================] - ETA: 0s - loss: 3.8325\n",
            "Epoch 32: val_loss did not improve from 7.62080\n",
            "6/6 [==============================] - 3s 564ms/step - loss: 3.8325 - val_loss: 15.4571\n",
            "Epoch 33/50\n",
            "6/6 [==============================] - ETA: 0s - loss: 3.7465\n",
            "Epoch 33: val_loss did not improve from 7.62080\n",
            "6/6 [==============================] - 4s 662ms/step - loss: 3.7465 - val_loss: 15.5791\n",
            "Epoch 34/50\n",
            "6/6 [==============================] - ETA: 0s - loss: 3.6849\n",
            "Epoch 34: val_loss did not improve from 7.62080\n",
            "6/6 [==============================] - 4s 733ms/step - loss: 3.6849 - val_loss: 15.5759\n",
            "Epoch 35/50\n",
            "6/6 [==============================] - ETA: 0s - loss: 3.6012\n",
            "Epoch 35: val_loss did not improve from 7.62080\n",
            "6/6 [==============================] - 6s 1s/step - loss: 3.6012 - val_loss: 15.7915\n",
            "Epoch 36/50\n",
            "6/6 [==============================] - ETA: 0s - loss: 3.4297\n",
            "Epoch 36: val_loss did not improve from 7.62080\n",
            "6/6 [==============================] - 3s 574ms/step - loss: 3.4297 - val_loss: 15.8077\n",
            "Epoch 37/50\n",
            "6/6 [==============================] - ETA: 0s - loss: 3.3272\n",
            "Epoch 37: val_loss did not improve from 7.62080\n",
            "6/6 [==============================] - 3s 571ms/step - loss: 3.3272 - val_loss: 16.0351\n",
            "Epoch 38/50\n",
            "6/6 [==============================] - ETA: 0s - loss: 3.2320\n",
            "Epoch 38: val_loss did not improve from 7.62080\n",
            "6/6 [==============================] - 5s 888ms/step - loss: 3.2320 - val_loss: 16.3345\n",
            "Epoch 39/50\n",
            "6/6 [==============================] - ETA: 0s - loss: 3.1285\n",
            "Epoch 39: val_loss did not improve from 7.62080\n",
            "6/6 [==============================] - 4s 651ms/step - loss: 3.1285 - val_loss: 16.4604\n",
            "Epoch 40/50\n",
            "6/6 [==============================] - ETA: 0s - loss: 2.9914\n",
            "Epoch 40: val_loss did not improve from 7.62080\n",
            "6/6 [==============================] - 3s 562ms/step - loss: 2.9914 - val_loss: 16.7315\n",
            "Epoch 41/50\n",
            "6/6 [==============================] - ETA: 0s - loss: 2.9349\n",
            "Epoch 41: val_loss did not improve from 7.62080\n",
            "6/6 [==============================] - 3s 582ms/step - loss: 2.9349 - val_loss: 16.8697\n",
            "Epoch 42/50\n",
            "6/6 [==============================] - ETA: 0s - loss: 2.8349\n",
            "Epoch 42: val_loss did not improve from 7.62080\n",
            "6/6 [==============================] - 5s 900ms/step - loss: 2.8349 - val_loss: 17.0864\n",
            "Epoch 43/50\n",
            "6/6 [==============================] - ETA: 0s - loss: 2.7484\n",
            "Epoch 43: val_loss did not improve from 7.62080\n",
            "6/6 [==============================] - 4s 688ms/step - loss: 2.7484 - val_loss: 17.2061\n",
            "Epoch 44/50\n",
            "6/6 [==============================] - ETA: 0s - loss: 2.6959\n",
            "Epoch 44: val_loss did not improve from 7.62080\n",
            "6/6 [==============================] - 3s 578ms/step - loss: 2.6959 - val_loss: 17.1646\n",
            "Epoch 45/50\n",
            "6/6 [==============================] - ETA: 0s - loss: 2.6119\n",
            "Epoch 45: val_loss did not improve from 7.62080\n",
            "6/6 [==============================] - 3s 572ms/step - loss: 2.6119 - val_loss: 17.6509\n",
            "Epoch 46/50\n",
            "6/6 [==============================] - ETA: 0s - loss: 2.5161\n",
            "Epoch 46: val_loss did not improve from 7.62080\n",
            "6/6 [==============================] - 5s 853ms/step - loss: 2.5161 - val_loss: 17.6621\n",
            "Epoch 47/50\n",
            "6/6 [==============================] - ETA: 0s - loss: 2.5014\n",
            "Epoch 47: val_loss did not improve from 7.62080\n",
            "6/6 [==============================] - 5s 703ms/step - loss: 2.5014 - val_loss: 17.9083\n",
            "Epoch 48/50\n",
            "6/6 [==============================] - ETA: 0s - loss: 2.3967\n",
            "Epoch 48: val_loss did not improve from 7.62080\n",
            "6/6 [==============================] - 4s 632ms/step - loss: 2.3967 - val_loss: 18.2167\n",
            "Epoch 49/50\n",
            "6/6 [==============================] - ETA: 0s - loss: 2.3381\n",
            "Epoch 49: val_loss did not improve from 7.62080\n",
            "6/6 [==============================] - 3s 566ms/step - loss: 2.3381 - val_loss: 18.3787\n",
            "Epoch 50/50\n",
            "6/6 [==============================] - ETA: 0s - loss: 2.2359\n",
            "Epoch 50: val_loss did not improve from 7.62080\n",
            "6/6 [==============================] - 5s 908ms/step - loss: 2.2359 - val_loss: 18.3810\n"
          ]
        }
      ]
    },
    {
      "cell_type": "code",
      "source": [
        "from keras.models import load_model\n",
        "model = load_model('best_model_violin.h5')"
      ],
      "metadata": {
        "id": "ltnjLjqfmYIo"
      },
      "execution_count": null,
      "outputs": []
    },
    {
      "cell_type": "code",
      "source": [
        "def generate_music(model, start_sequence, length=50):\n",
        "    prediction_output = []\n",
        "\n",
        "    # Ensure start_sequence is correctly formatted\n",
        "    start_sequence_formatted = np.array([note_to_int[note] for note in start_sequence])\n",
        "\n",
        "    for note_index in range(length):\n",
        "        prediction_input = np.reshape(start_sequence_formatted, (1, len(start_sequence_formatted), 1))\n",
        "        prob = model.predict(prediction_input)[0]\n",
        "        index = np.random.choice(range(len(prob)), p=prob)\n",
        "        predicted_note = x_int_to_note[index]  # Use the inverse mapping\n",
        "        prediction_output.append(predicted_note)\n",
        "\n",
        "        # Update start_sequence_formatted for the next prediction\n",
        "        start_sequence_formatted = np.append(start_sequence_formatted, [index])[1:]\n",
        "\n",
        "    return prediction_output\n",
        "\n",
        "# Create the inverse mapping from integers back to note tuples\n",
        "x_int_to_note = dict((number, note) for note, number in note_to_int.items())\n"
      ],
      "metadata": {
        "id": "wF87tLOZmYGg"
      },
      "execution_count": null,
      "outputs": []
    },
    {
      "cell_type": "code",
      "source": [
        "from music21 import stream, instrument, note, chord\n",
        "\n",
        "def convert_to_midi(prediction_output):\n",
        "    midi_stream = stream.Stream()\n",
        "    midi_stream.append(instrument.Violin())\n",
        "\n",
        "    offset = 0\n",
        "    for note_info in prediction_output:\n",
        "        # Create note or rest\n",
        "        if note_info[0] != 'rest':\n",
        "            new_note = note.Note(note_info[0])\n",
        "        else:\n",
        "            new_note = note.Rest()\n",
        "        new_note.duration.quarterLength = note_info[1]\n",
        "        new_note.offset = offset\n",
        "        new_note.storedInstrument = instrument.Violin()\n",
        "        midi_stream.append(new_note)\n",
        "        offset += note_info[2]\n",
        "\n",
        "    midi_stream.write('midi', fp='generated_music.mid')\n",
        "\n",
        "# Randomly select a starting sequence from x_val\n",
        "random_index = np.random.randint(0, len(x_val))\n",
        "start_sequence = x_val[random_index]\n",
        "\n",
        "# Since start_sequence is currently encoded as integers, decode it back to note information\n",
        "start_sequence_decoded = [x_int_to_note[note] for note in start_sequence.flatten()]\n",
        "\n",
        "# Generate music based on the starting sequence\n",
        "prediction_output = generate_music(model, start_sequence_decoded)\n",
        "convert_to_midi(prediction_output)\n"
      ],
      "metadata": {
        "id": "p5c3cXUF_eiO",
        "colab": {
          "base_uri": "https://localhost:8080/"
        },
        "outputId": "600439db-7590-4ce2-a6e0-b4dc91d2e0bb"
      },
      "execution_count": null,
      "outputs": [
        {
          "output_type": "stream",
          "name": "stdout",
          "text": [
            "1/1 [==============================] - 0s 171ms/step\n",
            "1/1 [==============================] - 0s 37ms/step\n",
            "1/1 [==============================] - 0s 36ms/step\n",
            "1/1 [==============================] - 0s 35ms/step\n",
            "1/1 [==============================] - 0s 36ms/step\n",
            "1/1 [==============================] - 0s 37ms/step\n",
            "1/1 [==============================] - 0s 36ms/step\n",
            "1/1 [==============================] - 0s 37ms/step\n",
            "1/1 [==============================] - 0s 35ms/step\n",
            "1/1 [==============================] - 0s 40ms/step\n",
            "1/1 [==============================] - 0s 34ms/step\n",
            "1/1 [==============================] - 0s 36ms/step\n",
            "1/1 [==============================] - 0s 34ms/step\n",
            "1/1 [==============================] - 0s 35ms/step\n",
            "1/1 [==============================] - 0s 39ms/step\n",
            "1/1 [==============================] - 0s 38ms/step\n",
            "1/1 [==============================] - 0s 35ms/step\n",
            "1/1 [==============================] - 0s 36ms/step\n",
            "1/1 [==============================] - 0s 36ms/step\n",
            "1/1 [==============================] - 0s 37ms/step\n",
            "1/1 [==============================] - 0s 60ms/step\n",
            "1/1 [==============================] - 0s 65ms/step\n",
            "1/1 [==============================] - 0s 59ms/step\n",
            "1/1 [==============================] - 0s 55ms/step\n",
            "1/1 [==============================] - 0s 55ms/step\n",
            "1/1 [==============================] - 0s 63ms/step\n",
            "1/1 [==============================] - 0s 56ms/step\n",
            "1/1 [==============================] - 0s 62ms/step\n",
            "1/1 [==============================] - 0s 64ms/step\n",
            "1/1 [==============================] - 0s 64ms/step\n",
            "1/1 [==============================] - 0s 66ms/step\n",
            "1/1 [==============================] - 0s 59ms/step\n",
            "1/1 [==============================] - 0s 62ms/step\n",
            "1/1 [==============================] - 0s 68ms/step\n",
            "1/1 [==============================] - 0s 59ms/step\n",
            "1/1 [==============================] - 0s 57ms/step\n",
            "1/1 [==============================] - 0s 60ms/step\n",
            "1/1 [==============================] - 0s 57ms/step\n",
            "1/1 [==============================] - 0s 72ms/step\n",
            "1/1 [==============================] - 0s 56ms/step\n",
            "1/1 [==============================] - 0s 71ms/step\n",
            "1/1 [==============================] - 0s 60ms/step\n",
            "1/1 [==============================] - 0s 53ms/step\n",
            "1/1 [==============================] - 0s 61ms/step\n",
            "1/1 [==============================] - 0s 56ms/step\n",
            "1/1 [==============================] - 0s 80ms/step\n",
            "1/1 [==============================] - 0s 64ms/step\n",
            "1/1 [==============================] - 0s 56ms/step\n",
            "1/1 [==============================] - 0s 58ms/step\n",
            "1/1 [==============================] - 0s 59ms/step\n"
          ]
        }
      ]
    },
    {
      "cell_type": "code",
      "source": [],
      "metadata": {
        "id": "Ft02X1S3nfLi"
      },
      "execution_count": null,
      "outputs": []
    }
  ]
}